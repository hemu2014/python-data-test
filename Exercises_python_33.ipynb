{
  "cells": [
    {
      "cell_type": "markdown",
      "metadata": {
        "id": "view-in-github",
        "colab_type": "text"
      },
      "source": [
        "<a href=\"https://colab.research.google.com/github/hemu2014/python-data-test/blob/main/Exercises_python_33.ipynb\" target=\"_parent\"><img src=\"https://colab.research.google.com/assets/colab-badge.svg\" alt=\"Open In Colab\"/></a>"
      ]
    },
    {
      "cell_type": "markdown",
      "metadata": {
        "id": "SrpEbe_pVuJx"
      },
      "source": [
        "![rmotr](https://user-images.githubusercontent.com/7065401/52071918-bda15380-2562-11e9-828c-7f95297e4a82.png)\n",
        "<hr style=\"margin-bottom: 40px;\">\n",
        "\n",
        "# Python in under 10 minutes - Exercises\n"
      ]
    },
    {
      "cell_type": "markdown",
      "metadata": {
        "id": "eqV1sxFBVuJy"
      },
      "source": [
        "![green-divider](https://user-images.githubusercontent.com/7065401/52071924-c003ad80-2562-11e9-8297-1c6595f8a7ff.png)\n",
        "\n",
        "### Exercise 1\n",
        "\n",
        "Convert the following `str` into `int` type.\n",
        "\n",
        "`revenue_as_string = \"500000\"`"
      ]
    },
    {
      "cell_type": "code",
      "execution_count": 2,
      "metadata": {
        "id": "2cE6VkxdVuJy",
        "outputId": "d6c62025-402a-479b-d4a3-f989372d76f2",
        "colab": {
          "base_uri": "https://localhost:8080/"
        }
      },
      "outputs": [
        {
          "output_type": "stream",
          "name": "stdout",
          "text": [
            "500000 <class 'int'>\n"
          ]
        }
      ],
      "source": [
        "revenue_as_string = \"500000\"\n",
        "\n",
        "# your code goes here\n",
        "revenue_as_integer = int(revenue_as_string)\n",
        "print(revenue_as_integer, type(revenue_as_integer))"
      ]
    },
    {
      "cell_type": "code",
      "execution_count": 3,
      "metadata": {
        "cell_type": "solution",
        "id": "nwNeN42aVuJz",
        "outputId": "c0703a40-77a2-4fcc-9e7f-bde225e58289",
        "colab": {
          "base_uri": "https://localhost:8080/"
        }
      },
      "outputs": [
        {
          "output_type": "execute_result",
          "data": {
            "text/plain": [
              "500000"
            ]
          },
          "metadata": {},
          "execution_count": 3
        }
      ],
      "source": [
        "revenue_as_integer = int(revenue_as_string)\n",
        "\n",
        "revenue_as_integer"
      ]
    },
    {
      "cell_type": "markdown",
      "metadata": {
        "id": "mOiOl20oVuJz"
      },
      "source": [
        "![green-divider](https://user-images.githubusercontent.com/7065401/52071924-c003ad80-2562-11e9-8297-1c6595f8a7ff.png)\n",
        "\n",
        "### Exercise 2\n",
        "\n",
        "Make a function using the following formula:\n",
        "\n",
        "$$ f(x,y) = 2 x + y $$"
      ]
    },
    {
      "cell_type": "code",
      "execution_count": 7,
      "metadata": {
        "id": "02gOpLNyVuJ0"
      },
      "outputs": [],
      "source": [
        "# your code goes here\n",
        "def func1(x, y):\n",
        "    return 2*x + y"
      ]
    },
    {
      "cell_type": "markdown",
      "metadata": {
        "cell_type": "hint",
        "id": "QT1pUiejVuJ0"
      },
      "source": [
        "The function will have two parameters $x$ and $y$."
      ]
    },
    {
      "cell_type": "code",
      "execution_count": null,
      "metadata": {
        "cell_type": "solution",
        "id": "jEA3N4V-VuJ0"
      },
      "outputs": [],
      "source": [
        "def func(x, y):\n",
        "    return 2*x + y"
      ]
    },
    {
      "cell_type": "code",
      "execution_count": 8,
      "metadata": {
        "id": "sqF_mxTxVuJ0",
        "outputId": "53b0610d-dbbc-47f0-f94c-5953eabe2c32",
        "colab": {
          "base_uri": "https://localhost:8080/"
        }
      },
      "outputs": [
        {
          "output_type": "execute_result",
          "data": {
            "text/plain": [
              "25"
            ]
          },
          "metadata": {},
          "execution_count": 8
        }
      ],
      "source": [
        "func(10, 5)"
      ]
    },
    {
      "cell_type": "code",
      "execution_count": 9,
      "metadata": {
        "id": "jSPCCBrdVuJ1",
        "outputId": "23b347b5-155f-48cd-ea78-d177af8b4523",
        "colab": {
          "base_uri": "https://localhost:8080/"
        }
      },
      "outputs": [
        {
          "output_type": "execute_result",
          "data": {
            "text/plain": [
              "4"
            ]
          },
          "metadata": {},
          "execution_count": 9
        }
      ],
      "source": [
        "func(-3, 10)"
      ]
    },
    {
      "cell_type": "markdown",
      "metadata": {
        "id": "AvVseWDaVuJ1"
      },
      "source": [
        "![green-divider](https://user-images.githubusercontent.com/7065401/52071924-c003ad80-2562-11e9-8297-1c6595f8a7ff.png)\n",
        "\n",
        "### Exercise 3\n",
        "\n",
        "Make a function that receives a string as parameter and return the last letter on it."
      ]
    },
    {
      "cell_type": "code",
      "execution_count": 10,
      "metadata": {
        "id": "AzV3Mgv8VuJ1"
      },
      "outputs": [],
      "source": [
        "# your code goes here\n",
        "def first_letter(string):\n",
        "  return string[0]\n"
      ]
    },
    {
      "cell_type": "code",
      "execution_count": 11,
      "metadata": {
        "cell_type": "solution",
        "id": "CggJP6kSVuJ1"
      },
      "outputs": [],
      "source": [
        "def last_letter(string):\n",
        "    return string[-1]"
      ]
    },
    {
      "cell_type": "code",
      "source": [
        "first_letter('Python')"
      ],
      "metadata": {
        "id": "Y3DswtL-Wqo8",
        "outputId": "71f8691e-a979-47a2-a1f5-1061d7e40aa0",
        "colab": {
          "base_uri": "https://localhost:8080/",
          "height": 35
        }
      },
      "execution_count": 14,
      "outputs": [
        {
          "output_type": "execute_result",
          "data": {
            "text/plain": [
              "'P'"
            ],
            "application/vnd.google.colaboratory.intrinsic+json": {
              "type": "string"
            }
          },
          "metadata": {},
          "execution_count": 14
        }
      ]
    },
    {
      "cell_type": "code",
      "execution_count": 12,
      "metadata": {
        "id": "G91-__19VuJ1",
        "outputId": "155e34c3-9740-4efb-eca1-adce4e5408e8",
        "colab": {
          "base_uri": "https://localhost:8080/",
          "height": 35
        }
      },
      "outputs": [
        {
          "output_type": "execute_result",
          "data": {
            "text/plain": [
              "'n'"
            ],
            "application/vnd.google.colaboratory.intrinsic+json": {
              "type": "string"
            }
          },
          "metadata": {},
          "execution_count": 12
        }
      ],
      "source": [
        "last_letter('Python')"
      ]
    },
    {
      "cell_type": "code",
      "source": [
        "first_letter('RMOTR')"
      ],
      "metadata": {
        "id": "gZjWIZjZWucz",
        "outputId": "c2ea282c-7639-46c7-b980-e92002d89ba1",
        "colab": {
          "base_uri": "https://localhost:8080/",
          "height": 35
        }
      },
      "execution_count": 15,
      "outputs": [
        {
          "output_type": "execute_result",
          "data": {
            "text/plain": [
              "'R'"
            ],
            "application/vnd.google.colaboratory.intrinsic+json": {
              "type": "string"
            }
          },
          "metadata": {},
          "execution_count": 15
        }
      ]
    },
    {
      "cell_type": "code",
      "execution_count": 13,
      "metadata": {
        "id": "qTi2Yc6sVuJ2",
        "outputId": "2f22960f-9ea8-4493-8043-1a44fabaac5c",
        "colab": {
          "base_uri": "https://localhost:8080/",
          "height": 35
        }
      },
      "outputs": [
        {
          "output_type": "execute_result",
          "data": {
            "text/plain": [
              "'R'"
            ],
            "application/vnd.google.colaboratory.intrinsic+json": {
              "type": "string"
            }
          },
          "metadata": {},
          "execution_count": 13
        }
      ],
      "source": [
        "last_letter('RMOTR')"
      ]
    },
    {
      "cell_type": "markdown",
      "metadata": {
        "id": "eLeHQtfRVuJ2"
      },
      "source": [
        "![green-divider](https://user-images.githubusercontent.com/7065401/52071924-c003ad80-2562-11e9-8297-1c6595f8a7ff.png)\n",
        "\n",
        "### Exercise 4\n",
        "\n",
        "Make a function that receives a list as parameter and return how many elements it has; if it doesn't have any element return an error."
      ]
    },
    {
      "cell_type": "code",
      "execution_count": 25,
      "metadata": {
        "id": "v1kXsbk1VuJ2"
      },
      "outputs": [],
      "source": [
        "# your code goes here\n",
        "def list_size_test(my_list):\n",
        "  if len(my_list):\n",
        "    return f\"List has {len(my_list)} elements, {[num for num in my_list]}\"\n",
        "\n",
        "  else:\n",
        "    return 'Error, no elements'"
      ]
    },
    {
      "cell_type": "code",
      "source": [
        "list_size_test([1, 2, 3])"
      ],
      "metadata": {
        "id": "cqLNAIWwXbTl",
        "outputId": "46412326-310e-4101-c752-33932b7d8edb",
        "colab": {
          "base_uri": "https://localhost:8080/",
          "height": 35
        }
      },
      "execution_count": 26,
      "outputs": [
        {
          "output_type": "execute_result",
          "data": {
            "text/plain": [
              "'List has 3 elements, [1, 2, 3]'"
            ],
            "application/vnd.google.colaboratory.intrinsic+json": {
              "type": "string"
            }
          },
          "metadata": {},
          "execution_count": 26
        }
      ]
    },
    {
      "cell_type": "code",
      "source": [
        "list_size_test([])"
      ],
      "metadata": {
        "id": "WfBNUBKbXbkU",
        "outputId": "9b49e1a0-37f0-4fc7-dfb1-1e194622df32",
        "colab": {
          "base_uri": "https://localhost:8080/",
          "height": 35
        }
      },
      "execution_count": 27,
      "outputs": [
        {
          "output_type": "execute_result",
          "data": {
            "text/plain": [
              "'Error, no elements'"
            ],
            "application/vnd.google.colaboratory.intrinsic+json": {
              "type": "string"
            }
          },
          "metadata": {},
          "execution_count": 27
        }
      ]
    },
    {
      "cell_type": "code",
      "execution_count": 19,
      "metadata": {
        "cell_type": "solution",
        "id": "lRMec_teVuJ2"
      },
      "outputs": [],
      "source": [
        "def list_size(my_list):\n",
        "    size = len(my_list)\n",
        "\n",
        "    if (size > 0):\n",
        "        return 'List has {} elements'.format(size)\n",
        "    else:\n",
        "        return 'Error, no elements'"
      ]
    },
    {
      "cell_type": "code",
      "execution_count": 20,
      "metadata": {
        "id": "FRlLnOtfVuJ2",
        "outputId": "3ee19c3e-5e1b-4bd8-ca16-a069a63d56cc",
        "colab": {
          "base_uri": "https://localhost:8080/",
          "height": 35
        }
      },
      "outputs": [
        {
          "output_type": "execute_result",
          "data": {
            "text/plain": [
              "'List has 3 elements'"
            ],
            "application/vnd.google.colaboratory.intrinsic+json": {
              "type": "string"
            }
          },
          "metadata": {},
          "execution_count": 20
        }
      ],
      "source": [
        "list_size([1, 2, 3])"
      ]
    },
    {
      "cell_type": "code",
      "execution_count": 21,
      "metadata": {
        "id": "FgRGYtRPVuJ2",
        "outputId": "f23d5c5f-12db-49b2-dd33-c9b6d00ac6e4",
        "colab": {
          "base_uri": "https://localhost:8080/",
          "height": 35
        }
      },
      "outputs": [
        {
          "output_type": "execute_result",
          "data": {
            "text/plain": [
              "'Error, no elements'"
            ],
            "application/vnd.google.colaboratory.intrinsic+json": {
              "type": "string"
            }
          },
          "metadata": {},
          "execution_count": 21
        }
      ],
      "source": [
        "list_size([])"
      ]
    },
    {
      "cell_type": "markdown",
      "metadata": {
        "id": "kIZxymIgVuJ2"
      },
      "source": [
        "![purple-divider](https://user-images.githubusercontent.com/7065401/52071927-c1cd7100-2562-11e9-908a-dde91ba14e59.png)"
      ]
    }
  ],
  "metadata": {
    "kernelspec": {
      "display_name": "Python 3",
      "language": "python",
      "name": "python3"
    },
    "language_info": {
      "codemirror_mode": {
        "name": "ipython",
        "version": 3
      },
      "file_extension": ".py",
      "mimetype": "text/x-python",
      "name": "python",
      "nbconvert_exporter": "python",
      "pygments_lexer": "ipython3",
      "version": "3.6.8"
    },
    "colab": {
      "provenance": [],
      "include_colab_link": true
    }
  },
  "nbformat": 4,
  "nbformat_minor": 0
}
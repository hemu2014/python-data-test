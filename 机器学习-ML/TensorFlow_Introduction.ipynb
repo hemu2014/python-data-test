{
  "nbformat": 4,
  "nbformat_minor": 0,
  "metadata": {
    "colab": {
      "provenance": [],
      "include_colab_link": true
    },
    "kernelspec": {
      "name": "python3",
      "display_name": "Python 3"
    }
  },
  "cells": [
    {
      "cell_type": "markdown",
      "metadata": {
        "id": "view-in-github",
        "colab_type": "text"
      },
      "source": [
        "<a href=\"https://colab.research.google.com/github/hemu2014/python-data-test/blob/main/%E6%9C%BA%E5%99%A8%E5%AD%A6%E4%B9%A0-ML/TensorFlow_Introduction.ipynb\" target=\"_parent\"><img src=\"https://colab.research.google.com/assets/colab-badge.svg\" alt=\"Open In Colab\"/></a>"
      ]
    },
    {
      "cell_type": "markdown",
      "metadata": {
        "id": "-5u3a4csUPyn"
      },
      "source": [
        "#TensorFlow 2.0 Introduction\n",
        "In this notebook you will be given an interactive introduction to TensorFlow 2.0. We will walk through the following topics within the TensorFlow module:\n",
        "\n",
        "- TensorFlow Install and Setup\n",
        "- Representing Tensors\n",
        "- Tensor Shape and Rank\n",
        "- Types of Tensors\n",
        "\n",
        "\n",
        "If you'd like to follow along without installing TensorFlow on your machine you can use **Google Collaboratory**. Collaboratory is a free Jupyter notebook environment that requires no setup and runs entirely in the cloud."
      ]
    },
    {
      "cell_type": "markdown",
      "metadata": {
        "id": "F7ThfbiQl96l"
      },
      "source": [
        "##Installing TensorFlow\n",
        "To install TensorFlow on your local machine you can use pip.\n",
        "```console\n",
        "pip install tensorflow\n",
        "```"
      ]
    },
    {
      "cell_type": "markdown",
      "metadata": {
        "id": "JYQWyAJ2mez6"
      },
      "source": [
        "![alt text](https://)If you have a CUDA enabled GPU you can install the GPU version of TensorFlow. You will also need to install some other software which can be found here: https://www.tensorflow.org/install/gpu\n",
        "```console\n",
        "pip install tensorflow-gpu\n",
        "```"
      ]
    },
    {
      "cell_type": "markdown",
      "metadata": {
        "id": "JJjNMaSClWhg"
      },
      "source": [
        "## Importing TensorFlow\n",
        "The first step here is going to be to select the correct version of TensorFlow from within collabratory!\n"
      ]
    },
    {
      "cell_type": "code",
      "metadata": {
        "id": "vGcE8x2Gkw9K",
        "colab": {
          "base_uri": "https://localhost:8080/"
        },
        "outputId": "374b5418-e066-4c49-9989-dc2ebcc4ab75"
      },
      "source": [
        "%tensorflow_version 2.x  # this line is not required unless you are in a notebook此行在笔记本中不需要"
      ],
      "execution_count": 1,
      "outputs": [
        {
          "output_type": "stream",
          "name": "stdout",
          "text": [
            "Colab only includes TensorFlow 2.x; %tensorflow_version has no effect.\n"
          ]
        }
      ]
    },
    {
      "cell_type": "code",
      "metadata": {
        "id": "4N7XbNDVY8P3",
        "colab": {
          "base_uri": "https://localhost:8080/"
        },
        "outputId": "f0dcd004-af58-4543-bf3b-637ed87572c3"
      },
      "source": [
        "import tensorflow as tf  # now import the tensorflow module\n",
        "print(tf.version)  # make sure the version is 2.x"
      ],
      "execution_count": 2,
      "outputs": [
        {
          "output_type": "stream",
          "name": "stdout",
          "text": [
            "<module 'tensorflow._api.v2.version' from '/usr/local/lib/python3.11/dist-packages/tensorflow/_api/v2/version/__init__.py'>\n"
          ]
        }
      ]
    },
    {
      "cell_type": "markdown",
      "metadata": {
        "id": "duDj86TfWFof"
      },
      "source": [
        "##Tensors\n",
        "\"A tensor is a generalization of vectors and matrices to potentially higher dimensions. Internally, TensorFlow represents tensors as n-dimensional arrays of base datatypes.\" (https://www.tensorflow.org/guide/tensor)\n",
        "\n",
        "It should't surprise you that tensors are a fundemental apsect of TensorFlow. They are the main objects that are passed around and manipluated throughout the program. Each tensor represents a partialy defined computation that will eventually produce a value. TensorFlow programs work by building a graph of Tensor objects that details how tensors are related. Running different parts of the graph allow results to be generated.\n",
        "\n",
        "Each tensor has a data type and a shape.\n",
        "\n",
        "**Data Types Include**: float32, int32, string and others.\n",
        "\n",
        "**Shape**: Represents the dimension of data.\n",
        "\n",
        "Just like vectors and matrices tensors can have operations applied to them like addition, subtraction, dot product, cross product etc.\n",
        "\n",
        "In the next sections we will discuss some different properties of tensors. This is to make you more familiar with how tensorflow represnts data and how you can manipulate this data.\n"
      ]
    },
    {
      "cell_type": "markdown",
      "metadata": {
        "id": "TAk6QhGUwQRt"
      },
      "source": [
        "###Creating Tensors\n",
        "Below is an example of how to create some different tensors.\n",
        "\n",
        "You simply define the value of the tensor and the datatype and you are good to go! It's worth mentioning that usually we deal with tensors of numeric data, it is quite rare to see string tensors.\n",
        "\n",
        "For a full list of datatypes please refer to the following guide.\n",
        "\n",
        "https://www.tensorflow.org/api_docs/python/tf/dtypes/DType?version=stable"
      ]
    },
    {
      "cell_type": "code",
      "metadata": {
        "id": "epGskXdjZHzu"
      },
      "source": [
        "string = tf.Variable(\"this is a string\", tf.string)\n",
        "number = tf.Variable(324, tf.int16)\n",
        "floating = tf.Variable(3.567, tf.float64)"
      ],
      "execution_count": 3,
      "outputs": []
    },
    {
      "cell_type": "code",
      "source": [
        "print(string)\n",
        "print(number)\n",
        "print(floating)"
      ],
      "metadata": {
        "id": "CwJOX3KtiecP",
        "outputId": "8208c745-4df8-4f9c-99ab-db15dc15bcd1",
        "colab": {
          "base_uri": "https://localhost:8080/"
        }
      },
      "execution_count": 4,
      "outputs": [
        {
          "output_type": "stream",
          "name": "stdout",
          "text": [
            "<tf.Variable 'Variable:0' shape=() dtype=string, numpy=b'this is a string'>\n",
            "<tf.Variable 'Variable:0' shape=() dtype=int32, numpy=324>\n",
            "<tf.Variable 'Variable:0' shape=() dtype=float32, numpy=3.566999912261963>\n"
          ]
        }
      ]
    },
    {
      "cell_type": "markdown",
      "metadata": {
        "id": "D0_H71HMaE-5"
      },
      "source": [
        "###Rank/Degree of Tensors\n",
        "Another word for rank is degree, these terms simply mean the number of dimensions involved in the tensor. What we created above is a *tensor of rank 0*, also known as a scalar.\n",
        "\n",
        "Now we'll create some tensors of higher degrees/ranks."
      ]
    },
    {
      "cell_type": "code",
      "metadata": {
        "id": "hX_Cc5IfjQ6-"
      },
      "source": [
        "rank1_tensor = tf.Variable([\"Test\"], tf.string)\n",
        "rank2_tensor = tf.Variable([[\"test\", \"ok\"], [\"test\", \"yes\"]], tf.string)"
      ],
      "execution_count": 5,
      "outputs": []
    },
    {
      "cell_type": "markdown",
      "metadata": {
        "id": "55zuGMc7nHjC"
      },
      "source": [
        "**To determine the rank** of a tensor we can call the following method."
      ]
    },
    {
      "cell_type": "markdown",
      "source": [
        "###rank()方法---确定张量的秩"
      ],
      "metadata": {
        "id": "eghqEV4dkBlv"
      }
    },
    {
      "cell_type": "code",
      "metadata": {
        "id": "Zrj0rAWLnMNv",
        "outputId": "65fb1ab4-1a3e-4d4f-dc09-2789a3e1aba4",
        "colab": {
          "base_uri": "https://localhost:8080/"
        }
      },
      "source": [
        "tf.rank(rank2_tensor)"
      ],
      "execution_count": 12,
      "outputs": [
        {
          "output_type": "execute_result",
          "data": {
            "text/plain": [
              "<tf.Tensor: shape=(), dtype=int32, numpy=2>"
            ]
          },
          "metadata": {},
          "execution_count": 12
        }
      ]
    },
    {
      "cell_type": "markdown",
      "metadata": {
        "id": "hTv4Gz67pQbx"
      },
      "source": [
        "The rank of a tensor is direclty related to the deepest level of nested lists. You can see in the first example ```[\"Test\"]``` is a rank 1 tensor as the deepest level of nesting is 1.\n",
        "Where in the second example ```[[\"test\", \"ok\"], [\"test\", \"yes\"]]``` is a rank 2 tensor as the deepest level of nesting is 2."
      ]
    },
    {
      "cell_type": "markdown",
      "metadata": {
        "id": "RaVrANK8q21q"
      },
      "source": [
        "###Shape of Tensors\n",
        "Now that we've talked about the rank of tensors it's time to talk about the shape. The shape of a tensor is simply the number of elements that exist in each dimension. TensorFlow will try to determine the shape of a tensor but sometimes it may be unknown.\n",
        "\n",
        "To **get the shape** of a tensor we use the shape attribute.\n"
      ]
    },
    {
      "cell_type": "markdown",
      "source": [
        "###shape--要获取张量的形状，我们使用 shape 属性。"
      ],
      "metadata": {
        "id": "nNiCSz9WkfYe"
      }
    },
    {
      "cell_type": "code",
      "metadata": {
        "id": "L_NRXsFOraYa",
        "colab": {
          "base_uri": "https://localhost:8080/"
        },
        "outputId": "0a72a945-4d97-40aa-bb2b-f3d6b3d80d63"
      },
      "source": [
        "rank2_tensor.shape"
      ],
      "execution_count": 20,
      "outputs": [
        {
          "output_type": "execute_result",
          "data": {
            "text/plain": [
              "TensorShape([2, 2])"
            ]
          },
          "metadata": {},
          "execution_count": 20
        }
      ]
    },
    {
      "cell_type": "markdown",
      "metadata": {
        "id": "wVDmLJeFs086"
      },
      "source": [
        "###Changing Shape\n",
        "The number of elements of a tensor is the product of the sizes of all its shapes. There are often many shapes that have the same number of elements, making it convient to be able to change the shape of a tensor.\n",
        "\n",
        "The example below shows how to change the shape of a tensor."
      ]
    },
    {
      "cell_type": "markdown",
      "source": [
        "###reshape()--更改张量的形状。-1--他会自动计算剩余shape"
      ],
      "metadata": {
        "id": "_oSG7JZdkl9-"
      }
    },
    {
      "cell_type": "code",
      "metadata": {
        "id": "dZ8Rbs2xtNqj"
      },
      "source": [
        "tensor1 = tf.ones([1,2,3])  # tf.ones() creates a shape [1,2,3] tensor full of ones\n",
        "tensor2 = tf.reshape(tensor1, [2,3,1])  # reshape existing data to shape [2,3,1]\n",
        "tensor3 = tf.reshape(tensor2, [3, -1])  # -1 tells the tensor to calculate the size of the dimension in that place\n",
        "tensor4 = tf.reshape(tensor3, [-1, 3])\n",
        "tensor5 = tf.reshape(tensor4, [-1])                                        # this will reshape the tensor to [3,-1]\n",
        "\n",
        "# The numer of elements in the reshaped tensor MUST match the number in the original"
      ],
      "execution_count": 16,
      "outputs": []
    },
    {
      "cell_type": "markdown",
      "metadata": {
        "id": "M631k7UDv1Wh"
      },
      "source": [
        "Now let's have a look at our different tensors."
      ]
    },
    {
      "cell_type": "code",
      "metadata": {
        "id": "IFNmUxaEv6s3",
        "colab": {
          "base_uri": "https://localhost:8080/"
        },
        "outputId": "c4dd0425-625c-4d80-84ab-7d99d8c3838c"
      },
      "source": [
        "print(tensor1)\n",
        "print(tensor2)\n",
        "print(tensor3)\n",
        "print(tensor4)\n",
        "print(tensor5)\n",
        "# Notice the changes in shape"
      ],
      "execution_count": 17,
      "outputs": [
        {
          "output_type": "stream",
          "name": "stdout",
          "text": [
            "tf.Tensor(\n",
            "[[[1. 1. 1.]\n",
            "  [1. 1. 1.]]], shape=(1, 2, 3), dtype=float32)\n",
            "tf.Tensor(\n",
            "[[[1.]\n",
            "  [1.]\n",
            "  [1.]]\n",
            "\n",
            " [[1.]\n",
            "  [1.]\n",
            "  [1.]]], shape=(2, 3, 1), dtype=float32)\n",
            "tf.Tensor(\n",
            "[[1. 1.]\n",
            " [1. 1.]\n",
            " [1. 1.]], shape=(3, 2), dtype=float32)\n",
            "tf.Tensor(\n",
            "[[1. 1. 1.]\n",
            " [1. 1. 1.]], shape=(2, 3), dtype=float32)\n",
            "tf.Tensor([1. 1. 1. 1. 1. 1.], shape=(6,), dtype=float32)\n"
          ]
        }
      ]
    },
    {
      "cell_type": "code",
      "source": [
        "print(tf.rank(tensor1))\n",
        "print(tf.rank(tensor2))\n",
        "print(tf.rank(tensor3))\n",
        "print(tf.rank(tensor4))\n",
        "print(tf.rank(tensor5))"
      ],
      "metadata": {
        "id": "CCctYdNUmC_O",
        "outputId": "a2fb8de3-2f70-43e5-8c96-d2682604da91",
        "colab": {
          "base_uri": "https://localhost:8080/"
        }
      },
      "execution_count": 18,
      "outputs": [
        {
          "output_type": "stream",
          "name": "stdout",
          "text": [
            "tf.Tensor(3, shape=(), dtype=int32)\n",
            "tf.Tensor(3, shape=(), dtype=int32)\n",
            "tf.Tensor(2, shape=(), dtype=int32)\n",
            "tf.Tensor(2, shape=(), dtype=int32)\n",
            "tf.Tensor(1, shape=(), dtype=int32)\n"
          ]
        }
      ]
    },
    {
      "cell_type": "code",
      "source": [
        "tf.convert_to_tensor([1,2,3])"
      ],
      "metadata": {
        "id": "DGZAU2yysX-s",
        "outputId": "a6d5b3e4-6a42-4e15-e927-cbfb10314417",
        "colab": {
          "base_uri": "https://localhost:8080/"
        }
      },
      "execution_count": 24,
      "outputs": [
        {
          "output_type": "execute_result",
          "data": {
            "text/plain": [
              "<tf.Tensor: shape=(3,), dtype=int32, numpy=array([1, 2, 3], dtype=int32)>"
            ]
          },
          "metadata": {},
          "execution_count": 24
        }
      ]
    },
    {
      "cell_type": "markdown",
      "source": [
        "###一个是numpy类型，一个是tensor类型"
      ],
      "metadata": {
        "id": "xfHkfOIBzrn7"
      }
    },
    {
      "cell_type": "code",
      "source": [
        "tf.reduce_max([1,2,3])"
      ],
      "metadata": {
        "id": "-vKesmc2sLA1",
        "outputId": "038becf7-02d3-428b-8dba-23d164e38181",
        "colab": {
          "base_uri": "https://localhost:8080/"
        }
      },
      "execution_count": 23,
      "outputs": [
        {
          "output_type": "execute_result",
          "data": {
            "text/plain": [
              "<tf.Tensor: shape=(), dtype=int32, numpy=3>"
            ]
          },
          "metadata": {},
          "execution_count": 23
        }
      ]
    },
    {
      "cell_type": "code",
      "source": [
        "import numpy as np\n",
        "tf.reduce_max(np.array([1,2,3]))"
      ],
      "metadata": {
        "id": "HtM9hC10sdsc",
        "outputId": "24675616-8494-4743-fda9-87a007f5c984",
        "colab": {
          "base_uri": "https://localhost:8080/"
        }
      },
      "execution_count": 26,
      "outputs": [
        {
          "output_type": "execute_result",
          "data": {
            "text/plain": [
              "<tf.Tensor: shape=(), dtype=int64, numpy=3>"
            ]
          },
          "metadata": {},
          "execution_count": 26
        }
      ]
    },
    {
      "cell_type": "markdown",
      "source": [
        "###默认 axis=None：将张量扁平化后返回索引。\n",
        "\n",
        "指定轴（如 axis=0 （垂直）或 axis=1（水平））时，按行/列返回索引：\n",
        "tip:\n",
        "在 TensorFlow 2.x 版本中，tf.math.argmax() 的 axis=None 的默认行为与文档描述不一致，实际行为是：\n",
        "\n",
        "如果输入是 N 维张量（N≥2）且 axis=None，会隐式转换为 axis=0（按列计算），而不是真正的扁平化全局索引。\n",
        "# 方法：先扁平化再求索引\n",
        "-flattened = tf.reshape(c, [-1])  # 转换为1D张量 [4.0, 5.0, 10.0, 1.0, 3.0, 5.0]\n",
        "-print(tf.math.argmax(flattened))  # 输出 2（10.0的全局索引）"
      ],
      "metadata": {
        "id": "s1dqnAuOvCm8"
      }
    },
    {
      "cell_type": "code",
      "source": [
        "c = tf.constant([[4.0, 5.0], [10.0, 1.0], [3.0, 5.0]])\n",
        "\n",
        "# Find the largest value\n",
        "print(tf.reduce_max(c))\n",
        "# Find the index of the largest value\n",
        "print(tf.math.argmax(c, axis=0))  #垂直方向\n",
        "print(tf.math.argmax(c, axis=1))  #水平方向\n",
        "d = tf.reshape(c, [-1])\n",
        "print(d)\n",
        "print(tf.math.argmax(d, axis=None))\n",
        "# Compute the softmax\n",
        "print(tf.nn.softmax(c))"
      ],
      "metadata": {
        "id": "qj73EQAos7vM",
        "outputId": "59f2805a-7f72-406e-cc42-ab04db12bdee",
        "colab": {
          "base_uri": "https://localhost:8080/"
        }
      },
      "execution_count": 36,
      "outputs": [
        {
          "output_type": "stream",
          "name": "stdout",
          "text": [
            "tf.Tensor(10.0, shape=(), dtype=float32)\n",
            "tf.Tensor([1 0], shape=(2,), dtype=int64)\n",
            "tf.Tensor([1 0 1], shape=(3,), dtype=int64)\n",
            "tf.Tensor([ 4.  5. 10.  1.  3.  5.], shape=(6,), dtype=float32)\n",
            "tf.Tensor(2, shape=(), dtype=int64)\n",
            "tf.Tensor(\n",
            "[[2.6894143e-01 7.3105860e-01]\n",
            " [9.9987662e-01 1.2339458e-04]\n",
            " [1.1920291e-01 8.8079703e-01]], shape=(3, 2), dtype=float32)\n"
          ]
        }
      ]
    },
    {
      "cell_type": "markdown",
      "metadata": {
        "id": "q88pJucBolsp"
      },
      "source": [
        "###Slicing Tensors\n",
        "You may be familiar with the term \"slice\" in python and its use on lists, tuples etc. Well the slice operator can be used on tensors to select specific axes or elements.\n",
        "\n",
        "When we slice or select elements from a tensor, we can use comma seperated values inside the set of square brackets. Each subsequent value refrences a different dimension of the tensor.\n",
        "\n",
        "Ex: ```tensor[dim1, dim2, dim3]```\n",
        "\n",
        "I've included a few examples that will hopefully help illustrate how we can manipulate tensors with the slice operator."
      ]
    },
    {
      "cell_type": "markdown",
      "source": [
        "###与numpy操作数据类似，切片操作符来操作张量。"
      ],
      "metadata": {
        "id": "jBIrRm0aoIyN"
      }
    },
    {
      "cell_type": "markdown",
      "source": [],
      "metadata": {
        "id": "VHrAOT7xoHue"
      }
    },
    {
      "cell_type": "code",
      "metadata": {
        "id": "b0YrD-hRqD-W",
        "colab": {
          "base_uri": "https://localhost:8080/"
        },
        "outputId": "ca084f4f-ef12-459a-83fc-90765a82689a"
      },
      "source": [
        "# Creating a 2D tensor\n",
        "matrix = [[1,2,3,4,5],\n",
        "          [6,7,8,9,10],\n",
        "          [11,12,13,14,15],\n",
        "          [16,17,18,19,20]]\n",
        "\n",
        "tensor = tf.Variable(matrix, dtype=tf.int32)\n",
        "print(tf.rank(tensor))\n",
        "print(tensor.shape)"
      ],
      "execution_count": 19,
      "outputs": [
        {
          "output_type": "stream",
          "name": "stdout",
          "text": [
            "tf.Tensor(2, shape=(), dtype=int32)\n",
            "(4, 5)\n"
          ]
        }
      ]
    },
    {
      "cell_type": "code",
      "metadata": {
        "id": "Wd85uGI7qyfC",
        "colab": {
          "base_uri": "https://localhost:8080/"
        },
        "outputId": "2216692b-6417-47a3-eeef-42c68e9db441"
      },
      "source": [
        "# Now lets select some different rows and columns from our tensor\n",
        "\n",
        "three = tensor[0,2]  # selects the 3rd element from the 1st row\n",
        "print(three)  # -> 3\n",
        "\n",
        "row1 = tensor[0]  # selects the first row\n",
        "print(row1)\n",
        "\n",
        "column1 = tensor[:, 0]  # selects the first column\n",
        "print(column1)\n",
        "\n",
        "row_2_and_4 = tensor[1::2]  # selects second and fourth row\n",
        "print(row_2_and_4)\n",
        "\n",
        "column_1_in_row_2_and_3 = tensor[1:3, 0]\n",
        "print(column_1_in_row_2_and_3)\n"
      ],
      "execution_count": 22,
      "outputs": [
        {
          "output_type": "stream",
          "name": "stdout",
          "text": [
            "tf.Tensor(3, shape=(), dtype=int32)\n",
            "tf.Tensor([1 2 3 4 5], shape=(5,), dtype=int32)\n",
            "tf.Tensor([ 1  6 11 16], shape=(4,), dtype=int32)\n",
            "tf.Tensor(\n",
            "[[ 6  7  8  9 10]\n",
            " [16 17 18 19 20]], shape=(2, 5), dtype=int32)\n",
            "tf.Tensor([ 6 11], shape=(2,), dtype=int32)\n"
          ]
        }
      ]
    },
    {
      "cell_type": "markdown",
      "metadata": {
        "id": "UU4MMhB_rxvz"
      },
      "source": [
        "###Types of Tensors\n",
        "Before we go to far, I will mention that there are diffent types of tensors. These are the most used and we will talk more in depth about each as they are used.\n",
        "- Variable\n",
        "- Constant\n",
        "- Placeholder\n",
        "- SparseTensor\n",
        "\n",
        "With the execption of ```Variable``` all these tensors are immuttable, meaning their value may not change during execution.\n",
        "\n",
        "For now, it is enough to understand that we use the Variable tensor when we want to potentially change the value of our tensor.\n",
        "\n"
      ]
    },
    {
      "cell_type": "markdown",
      "source": [
        "###补充"
      ],
      "metadata": {
        "id": "BENDZ0O80YtS"
      }
    },
    {
      "cell_type": "markdown",
      "source": [
        "###Tensor.ndim 和 Tensor.shape 特性不返回 Tensor 对象。如果您需要 Tensor，请使用 tf.rank 或 tf.shape 函数。这种差异不易察觉，但在构建计算图时（稍后）可能非常重要。"
      ],
      "metadata": {
        "id": "imVR8lfb3VSS"
      }
    },
    {
      "cell_type": "code",
      "source": [
        "rank_5_tensor = tf.zeros([3, 2, 4, 5])\n",
        "tf.shape(rank_5_tensor)\n",
        "print(type(tf.shape(rank_5_tensor)), tf.shape(rank_5_tensor).numpy())\n",
        "print(type(rank_5_tensor.shape))\n",
        "print(tf.shape(rank_5_tensor))\n",
        "print(\"rank:\", tf.rank(rank_5_tensor))\n",
        "print(\"size:\",tf.size(rank_5_tensor))\n",
        "print(rank_5_tensor.shape)"
      ],
      "metadata": {
        "id": "jCKE_QfZ14aa",
        "outputId": "72347a50-290c-468f-80bf-19d718edc0e2",
        "colab": {
          "base_uri": "https://localhost:8080/"
        }
      },
      "execution_count": 50,
      "outputs": [
        {
          "output_type": "stream",
          "name": "stdout",
          "text": [
            "<class 'tensorflow.python.framework.ops.EagerTensor'> [3 2 4 5]\n",
            "<class 'tensorflow.python.framework.tensor_shape.TensorShape'>\n",
            "tf.Tensor([3 2 4 5], shape=(4,), dtype=int32)\n",
            "rank: tf.Tensor(4, shape=(), dtype=int32)\n",
            "size: tf.Tensor(120, shape=(), dtype=int32)\n",
            "(3, 2, 4, 5)\n"
          ]
        }
      ]
    },
    {
      "cell_type": "code",
      "source": [
        "rank_4_tensor = tf.zeros([3, 2, 4, 5])\n",
        "print(type(rank_4_tensor.ndim), type(rank_4_tensor.shape))\n",
        "print(\"Type of every element:\", rank_4_tensor.dtype)\n",
        "print(\"Number of axes:\", rank_4_tensor.ndim)\n",
        "print(\"Shape of tensor:\", rank_4_tensor.shape)\n",
        "print(\"Elements along axis 0 of tensor:\", rank_4_tensor.shape[0])\n",
        "print(\"Elements along the last axis of tensor:\", rank_4_tensor.shape[-1])\n",
        "print(\"Total number of elements (3*2*4*5): \", tf.size(rank_4_tensor))\n",
        "print(\"Total number of elements (3*2*4*5): \", tf.size(rank_4_tensor).numpy())"
      ],
      "metadata": {
        "id": "D_-eMnJA0YJa",
        "outputId": "1c3d4f3e-0bce-4213-dd48-518fe126e836",
        "colab": {
          "base_uri": "https://localhost:8080/"
        }
      },
      "execution_count": 40,
      "outputs": [
        {
          "output_type": "stream",
          "name": "stdout",
          "text": [
            "<class 'int'> <class 'tensorflow.python.framework.tensor_shape.TensorShape'>\n",
            "Type of every element: <dtype: 'float32'>\n",
            "Number of axes: 4\n",
            "Shape of tensor: (3, 2, 4, 5)\n",
            "Elements along axis 0 of tensor: 3\n",
            "Elements along the last axis of tensor: 5\n",
            "Total number of elements (3*2*4*5):  tf.Tensor(120, shape=(), dtype=int32)\n",
            "Total number of elements (3*2*4*5):  120\n"
          ]
        }
      ]
    },
    {
      "cell_type": "code",
      "source": [
        "rank_1_tensor = tf.constant([0, 1, 1, 2, 3, 5, 8, 13, 21, 34])\n",
        "print(rank_1_tensor.numpy())"
      ],
      "metadata": {
        "id": "wjHTqOEx4B1Z",
        "outputId": "7f74a52c-bc36-4c6c-e754-d09413c9e080",
        "colab": {
          "base_uri": "https://localhost:8080/"
        }
      },
      "execution_count": 51,
      "outputs": [
        {
          "output_type": "stream",
          "name": "stdout",
          "text": [
            "[ 0  1  1  2  3  5  8 13 21 34]\n"
          ]
        }
      ]
    },
    {
      "cell_type": "markdown",
      "source": [
        "###使用标量编制索引会移除轴："
      ],
      "metadata": {
        "id": "uwrlIcAM4Lqh"
      }
    },
    {
      "cell_type": "code",
      "source": [
        "print(\"First:\", rank_1_tensor[0].numpy())\n",
        "print(\"Second:\", rank_1_tensor[1].numpy())\n",
        "print(\"Last:\", rank_1_tensor[-1].numpy())"
      ],
      "metadata": {
        "id": "ZwltcW624DUI",
        "outputId": "bbd71aee-984e-45ad-d870-1db0cd878015",
        "colab": {
          "base_uri": "https://localhost:8080/"
        }
      },
      "execution_count": 52,
      "outputs": [
        {
          "output_type": "stream",
          "name": "stdout",
          "text": [
            "First: 0\n",
            "Second: 1\n",
            "Last: 34\n"
          ]
        }
      ]
    },
    {
      "cell_type": "markdown",
      "source": [
        "###使用 : 切片编制索引会保留轴："
      ],
      "metadata": {
        "id": "_S4XaMOF4Qwx"
      }
    },
    {
      "cell_type": "code",
      "source": [
        "print(\"Everything:\", rank_1_tensor[:].numpy())\n",
        "print(\"Before 4:\", rank_1_tensor[:4].numpy())\n",
        "print(\"From 4 to the end:\", rank_1_tensor[4:].numpy())\n",
        "print(\"From 2, before 7:\", rank_1_tensor[2:7].numpy())\n",
        "print(\"Every other item:\", rank_1_tensor[::2].numpy())\n",
        "print(\"Reversed:\", rank_1_tensor[::-1].numpy())"
      ],
      "metadata": {
        "id": "e5v7H3f54QYA",
        "outputId": "0d3eac64-ddc2-45be-f0ee-f49f791dabff",
        "colab": {
          "base_uri": "https://localhost:8080/"
        }
      },
      "execution_count": 53,
      "outputs": [
        {
          "output_type": "stream",
          "name": "stdout",
          "text": [
            "Everything: [ 0  1  1  2  3  5  8 13 21 34]\n",
            "Before 4: [0 1 1 2]\n",
            "From 4 to the end: [ 3  5  8 13 21 34]\n",
            "From 2, before 7: [1 2 3 5 8]\n",
            "Every other item: [ 0  1  3  8 21]\n",
            "Reversed: [34 21 13  8  5  3  2  1  1  0]\n"
          ]
        }
      ]
    },
    {
      "cell_type": "markdown",
      "source": [
        "###为每个索引传递一个整数，结果是一个标量。"
      ],
      "metadata": {
        "id": "vM4TqNG-4lWx"
      }
    },
    {
      "cell_type": "code",
      "source": [
        "rank_2_tensor = tf.constant([[1, 2],\n",
        "                             [3, 4],\n",
        "                             [5, 6]], dtype=tf.float16)\n",
        "# Pull out a single value from a 2-rank tensor\n",
        "print(rank_2_tensor[1, 1].numpy())"
      ],
      "metadata": {
        "id": "hpkbQrF64bWw",
        "outputId": "49380411-fb73-4a3a-d8d6-56e4a11f35c6",
        "colab": {
          "base_uri": "https://localhost:8080/"
        }
      },
      "execution_count": 54,
      "outputs": [
        {
          "output_type": "stream",
          "name": "stdout",
          "text": [
            "4.0\n"
          ]
        }
      ]
    },
    {
      "cell_type": "code",
      "source": [
        "# Get row and column tensors\n",
        "print(\"Second row:\", rank_2_tensor[1, :].numpy())\n",
        "print(\"Second column:\", rank_2_tensor[:, 1].numpy())\n",
        "print(\"Last row:\", rank_2_tensor[-1, :].numpy())\n",
        "print(\"First item in last column:\", rank_2_tensor[0, -1].numpy())\n",
        "print(\"Skip the first row:\")\n",
        "print(rank_2_tensor[1:, :].numpy(), \"\\n\")"
      ],
      "metadata": {
        "id": "MV4Z0RD84nGI",
        "outputId": "795f0324-f8bd-471e-a4db-2c8f975eee91",
        "colab": {
          "base_uri": "https://localhost:8080/"
        }
      },
      "execution_count": 55,
      "outputs": [
        {
          "output_type": "stream",
          "name": "stdout",
          "text": [
            "Second row: [3. 4.]\n",
            "Second column: [2. 4. 6.]\n",
            "Last row: [5. 6.]\n",
            "First item in last column: 2.0\n",
            "Skip the first row:\n",
            "[[3. 4.]\n",
            " [5. 6.]] \n",
            "\n"
          ]
        }
      ]
    },
    {
      "cell_type": "code",
      "source": [
        "rank_3_tensor = tf.constant([\n",
        "  [[0, 1, 2, 3, 4],\n",
        "   [5, 6, 7, 8, 9]],\n",
        "  [[10, 11, 12, 13, 14],\n",
        "   [15, 16, 17, 18, 19]],\n",
        "  [[20, 21, 22, 23, 24],\n",
        "   [25, 26, 27, 28, 29]],])\n",
        "\n",
        "print(rank_3_tensor[:, :, 4])\n",
        "print(rank_3_tensor[:, 1, 4])\n",
        "print(rank_3_tensor[1, 1, 4])\n",
        "print(rank_3_tensor[0, :, :2])"
      ],
      "metadata": {
        "id": "LvOqIkQx5qfg",
        "outputId": "690a9f72-9bc7-483a-d0da-4e9b51a852ca",
        "colab": {
          "base_uri": "https://localhost:8080/"
        }
      },
      "execution_count": 59,
      "outputs": [
        {
          "output_type": "stream",
          "name": "stdout",
          "text": [
            "tf.Tensor(\n",
            "[[ 4  9]\n",
            " [14 19]\n",
            " [24 29]], shape=(3, 2), dtype=int32)\n",
            "tf.Tensor([ 9 19 29], shape=(3,), dtype=int32)\n",
            "tf.Tensor(19, shape=(), dtype=int32)\n",
            "tf.Tensor(\n",
            "[[0 1]\n",
            " [5 6]], shape=(2, 2), dtype=int32)\n"
          ]
        }
      ]
    },
    {
      "cell_type": "markdown",
      "source": [
        "###as_list()--转为python列表"
      ],
      "metadata": {
        "id": "BeAAPhR57RRJ"
      }
    },
    {
      "cell_type": "code",
      "source": [
        "# Shape returns a `TensorShape` object that shows the size along each axis\n",
        "x = tf.constant([[1], [2], [3]])\n",
        "print(x.shape)\n",
        "# You can convert this object into a Python list, too\n",
        "print(x.shape.as_list())"
      ],
      "metadata": {
        "id": "s8UNPNEm7OMQ",
        "outputId": "3f93a33e-b847-4762-dd54-577f8282e758",
        "colab": {
          "base_uri": "https://localhost:8080/"
        }
      },
      "execution_count": 60,
      "outputs": [
        {
          "output_type": "stream",
          "name": "stdout",
          "text": [
            "(3, 1)\n",
            "[3, 1]\n"
          ]
        }
      ]
    },
    {
      "cell_type": "markdown",
      "source": [
        "###数据在内存中的布局保持不变，\n",
        "###同时使用请求的形状创建一个指向同一数据的新张量。TensorFlow 采用 C 样式的“行优先”内存访问顺序，即最右侧的索引值递增对应于内存中的单步位移。"
      ],
      "metadata": {
        "id": "4eokhb-18rww"
      }
    },
    {
      "cell_type": "markdown",
      "source": [
        "###如果您展平张量，则可以看到它在内存中的排列顺序。"
      ],
      "metadata": {
        "id": "zlk-Vynm823o"
      }
    },
    {
      "cell_type": "code",
      "source": [
        "# A `-1` passed in the `shape` argument says \"Whatever fits\".\n",
        "print(tf.reshape(rank_3_tensor, [-1]))"
      ],
      "metadata": {
        "id": "l_LJXEEy8l5I",
        "outputId": "9a967a9f-b7e8-4650-eaec-e2c7ea146f0e",
        "colab": {
          "base_uri": "https://localhost:8080/"
        }
      },
      "execution_count": 62,
      "outputs": [
        {
          "output_type": "stream",
          "name": "stdout",
          "text": [
            "tf.Tensor(\n",
            "[ 0  1  2  3  4  5  6  7  8  9 10 11 12 13 14 15 16 17 18 19 20 21 22 23\n",
            " 24 25 26 27 28 29], shape=(30,), dtype=int32)\n"
          ]
        }
      ]
    },
    {
      "cell_type": "markdown",
      "source": [
        "###一般来说，tf.reshape 唯一合理的用途是用于合并或拆分相邻轴（或添加/移除 1）。\n",
        "\n",
        "对于 3x2x5 张量，重构为 (3x2)x5 或 3x(2x5) 都合理，因为切片不会混淆：\n",
        "![image.png](data:image/png;base64,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)"
      ],
      "metadata": {
        "id": "6_FU2tOc898g"
      }
    },
    {
      "cell_type": "code",
      "source": [
        "print(tf.reshape(rank_3_tensor, [3*2, 5]), \"\\n\")\n",
        "print(tf.reshape(rank_3_tensor, [3, -1]))"
      ],
      "metadata": {
        "id": "DOxA8VQN89Qf",
        "outputId": "b3be5c53-a5bc-4406-8bc7-4e7a34da7901",
        "colab": {
          "base_uri": "https://localhost:8080/"
        }
      },
      "execution_count": 63,
      "outputs": [
        {
          "output_type": "stream",
          "name": "stdout",
          "text": [
            "tf.Tensor(\n",
            "[[ 0  1  2  3  4]\n",
            " [ 5  6  7  8  9]\n",
            " [10 11 12 13 14]\n",
            " [15 16 17 18 19]\n",
            " [20 21 22 23 24]\n",
            " [25 26 27 28 29]], shape=(6, 5), dtype=int32) \n",
            "\n",
            "tf.Tensor(\n",
            "[[ 0  1  2  3  4  5  6  7  8  9]\n",
            " [10 11 12 13 14 15 16 17 18 19]\n",
            " [20 21 22 23 24 25 26 27 28 29]], shape=(3, 10), dtype=int32)\n"
          ]
        }
      ]
    },
    {
      "cell_type": "markdown",
      "source": [
        "###重构可以处理总元素个数相同的任何新形状，但是如果不遵从轴的顺序，则不会发挥任何作用。\n",
        "\n",
        "利用 tf.reshape 无法实现轴的交换，**要交换轴，您需要使用 tf.transpose。**"
      ],
      "metadata": {
        "id": "seSXamnp9cxR"
      }
    },
    {
      "cell_type": "code",
      "source": [
        "# Bad examples: don't do this\n",
        "\n",
        "# You can't reorder axes with reshape.\n",
        "print(tf.reshape(rank_3_tensor, [2, 3, 5]), \"\\n\")\n",
        "\n",
        "# This is a mess\n",
        "print(tf.reshape(rank_3_tensor, [5, 6]), \"\\n\")\n",
        "\n",
        "# This doesn't work at all\n",
        "try:\n",
        "  tf.reshape(rank_3_tensor, [7, -1])\n",
        "except Exception as e:\n",
        "  print(f\"{type(e).__name__}: {e}\")"
      ],
      "metadata": {
        "id": "Q0CXr-9W9bAH",
        "outputId": "d9e01a6d-93a4-4d28-ded2-6cc8847eedd7",
        "colab": {
          "base_uri": "https://localhost:8080/"
        }
      },
      "execution_count": 66,
      "outputs": [
        {
          "output_type": "stream",
          "name": "stdout",
          "text": [
            "tf.Tensor(\n",
            "[[[ 0  1  2  3  4]\n",
            "  [ 5  6  7  8  9]\n",
            "  [10 11 12 13 14]]\n",
            "\n",
            " [[15 16 17 18 19]\n",
            "  [20 21 22 23 24]\n",
            "  [25 26 27 28 29]]], shape=(2, 3, 5), dtype=int32) \n",
            "\n",
            "tf.Tensor(\n",
            "[[ 0  1  2  3  4  5]\n",
            " [ 6  7  8  9 10 11]\n",
            " [12 13 14 15 16 17]\n",
            " [18 19 20 21 22 23]\n",
            " [24 25 26 27 28 29]], shape=(5, 6), dtype=int32) \n",
            "\n",
            "InvalidArgumentError: {{function_node __wrapped__Reshape_device_/job:localhost/replica:0/task:0/device:CPU:0}} Input to reshape is a tensor with 30 values, but the requested shape requires a multiple of 7 [Op:Reshape]\n"
          ]
        }
      ]
    },
    {
      "cell_type": "markdown",
      "source": [
        "###DTypes 详解\n",
        "* 使用 **Tensor.dtype** 属性可以检查 tf.Tensor 的数据类型。\n",
        "\n",
        "\n",
        "\n",
        "\n",
        "\n",
        "\n",
        "\n",
        "* 从 Python 对象创建 **tf.Tensor 时，您可以选择指定数据类型。**\n",
        "\n",
        "* 如果不指定，TensorFlow 会选择一个可以表示您的数据的数据类型。TensorFlow 将 Python 整数转换为 tf.int32，将 Python 浮点数转换为 tf.float32。另外，当转换为数组时，TensorFlow 会采用与 NumPy 相同的规则。\n",
        "\n",
        "* 数据类型可以相互转换。"
      ],
      "metadata": {
        "id": "TJNvfozU-F_g"
      }
    },
    {
      "cell_type": "code",
      "source": [
        "the_f64_tensor = tf.constant([2.2, 3.3, 4.4], dtype=tf.float64)\n",
        "print(the_f64_tensor.dtype)\n",
        "print(the_f64_tensor)\n",
        "the_f16_tensor = tf.cast(the_f64_tensor, dtype=tf.float16)\n",
        "print(the_f16_tensor)\n",
        "# Now, cast to an uint8 and lose the decimal precision\n",
        "the_u8_tensor = tf.cast(the_f16_tensor, dtype=tf.uint8)\n",
        "print(the_u8_tensor)"
      ],
      "metadata": {
        "id": "_607jiod-BpQ",
        "outputId": "80d35f63-dffb-4167-cb42-e09a16d59928",
        "colab": {
          "base_uri": "https://localhost:8080/"
        }
      },
      "execution_count": 69,
      "outputs": [
        {
          "output_type": "stream",
          "name": "stdout",
          "text": [
            "<dtype: 'float64'>\n",
            "tf.Tensor([2.2 3.3 4.4], shape=(3,), dtype=float64)\n",
            "tf.Tensor([2.2 3.3 4.4], shape=(3,), dtype=float16)\n",
            "tf.Tensor([2 3 4], shape=(3,), dtype=uint8)\n"
          ]
        }
      ]
    },
    {
      "cell_type": "markdown",
      "source": [
        "###广播\n",
        "* 广播是从 NumPy 中的等效功能借用的一个概念。简而言之，在一定条件下，对一组张量执行组合运算时，为了适应大张量，会对小张量进行“扩展”。\n",
        "\n",
        "* 最简单和最常见的例子是尝试将**张量与标量相乘或相加**。在这种情况下会对标量进行广播，使**其变成与其他参数相同的形状。**"
      ],
      "metadata": {
        "id": "zKRdNxkH_Nxg"
      }
    },
    {
      "cell_type": "code",
      "source": [
        "x = tf.constant([1, 2, 3])\n",
        "\n",
        "y = tf.constant(2)\n",
        "z = tf.constant([2, 2, 2])\n",
        "# All of these are the same computation\n",
        "print(tf.multiply(x, 2))\n",
        "print(x * y)\n",
        "print(x * z)"
      ],
      "metadata": {
        "id": "Fu_nPOdF_Lvu",
        "outputId": "bf43afb7-8c31-44f7-9cad-0eef0422bf99",
        "colab": {
          "base_uri": "https://localhost:8080/"
        }
      },
      "execution_count": 70,
      "outputs": [
        {
          "output_type": "stream",
          "name": "stdout",
          "text": [
            "tf.Tensor([2 4 6], shape=(3,), dtype=int32)\n",
            "tf.Tensor([2 4 6], shape=(3,), dtype=int32)\n",
            "tf.Tensor([2 4 6], shape=(3,), dtype=int32)\n"
          ]
        }
      ]
    },
    {
      "cell_type": "markdown",
      "source": [
        "###同样，可以扩展长度为 1 的轴，使其匹配其他参数。在同一个计算中可以同时扩展两个参数。\n",
        "\n",
        "在本例中，一个 **3x1 的矩阵与一个 1x4 进行元素级乘法运算，**从而产生一个 3x4 的矩阵。注意**前导 1 是可选的：y 的形状是 [4]。**"
      ],
      "metadata": {
        "id": "RJeRObF1AUAg"
      }
    },
    {
      "cell_type": "code",
      "source": [
        "# These are the same computations\n",
        "x = tf.reshape(x,[3,1])\n",
        "y = tf.range(1, 5)  # 生成一个,[1,2,3,4]数组\n",
        "print(x, \"\\n\")\n",
        "print(y, \"\\n\")\n",
        "print(tf.multiply(x, y))"
      ],
      "metadata": {
        "id": "_C4H55H6AP_X",
        "outputId": "8ba85086-06b6-457d-dbf6-c2effdc52149",
        "colab": {
          "base_uri": "https://localhost:8080/"
        }
      },
      "execution_count": 71,
      "outputs": [
        {
          "output_type": "stream",
          "name": "stdout",
          "text": [
            "tf.Tensor(\n",
            "[[1]\n",
            " [2]\n",
            " [3]], shape=(3, 1), dtype=int32) \n",
            "\n",
            "tf.Tensor([1 2 3 4], shape=(4,), dtype=int32) \n",
            "\n",
            "tf.Tensor(\n",
            "[[ 1  2  3  4]\n",
            " [ 2  4  6  8]\n",
            " [ 3  6  9 12]], shape=(3, 4), dtype=int32)\n"
          ]
        }
      ]
    },
    {
      "cell_type": "markdown",
      "source": [
        "###下面是不使用广播的同一运算："
      ],
      "metadata": {
        "id": "CaUDKTOCAzk3"
      }
    },
    {
      "cell_type": "code",
      "source": [
        "x_stretch = tf.constant([[1, 1, 1, 1],\n",
        "                         [2, 2, 2, 2],\n",
        "                         [3, 3, 3, 3]])\n",
        "\n",
        "y_stretch = tf.constant([[1, 2, 3, 4],\n",
        "                         [1, 2, 3, 4],\n",
        "                         [1, 2, 3, 4]])\n",
        "\n",
        "print(x_stretch * y_stretch)  # Again, operator overloading"
      ],
      "metadata": {
        "id": "eEo3vk0LAyZ3",
        "outputId": "7ca7c9c5-e36d-4958-d95a-0aa5d6a3caa6",
        "colab": {
          "base_uri": "https://localhost:8080/"
        }
      },
      "execution_count": 72,
      "outputs": [
        {
          "output_type": "stream",
          "name": "stdout",
          "text": [
            "tf.Tensor(\n",
            "[[ 1  2  3  4]\n",
            " [ 2  4  6  8]\n",
            " [ 3  6  9 12]], shape=(3, 4), dtype=int32)\n"
          ]
        }
      ]
    },
    {
      "cell_type": "markdown",
      "source": [
        "###在大多数情况下，广播的时间和空间效率更高，因为广播运算不会在内存中具体化扩展的张量。\n",
        "\n",
        "使用 **tf.broadcast_to** 可以了解广播的运算方式。"
      ],
      "metadata": {
        "id": "5zxMFiEcA6dX"
      }
    },
    {
      "cell_type": "code",
      "source": [
        "print(tf.broadcast_to(tf.constant([1, 2, 3]), [3, 3]))"
      ],
      "metadata": {
        "id": "NOjSR4XgA3Ru",
        "outputId": "12a99b07-6d00-45b1-f18c-02cb3c7621a0",
        "colab": {
          "base_uri": "https://localhost:8080/"
        }
      },
      "execution_count": 73,
      "outputs": [
        {
          "output_type": "stream",
          "name": "stdout",
          "text": [
            "tf.Tensor(\n",
            "[[1 2 3]\n",
            " [1 2 3]\n",
            " [1 2 3]], shape=(3, 3), dtype=int32)\n"
          ]
        }
      ]
    },
    {
      "cell_type": "code",
      "source": [
        "print(tf.broadcast_to(tf.constant([1, 2, 3]), [3]))"
      ],
      "metadata": {
        "id": "kRGnrW7JCCku",
        "outputId": "c746a976-f30e-41fa-e081-3f38cc9c57e5",
        "colab": {
          "base_uri": "https://localhost:8080/"
        }
      },
      "execution_count": 80,
      "outputs": [
        {
          "output_type": "stream",
          "name": "stdout",
          "text": [
            "tf.Tensor([1 2 3], shape=(3,), dtype=int32)\n"
          ]
        }
      ]
    },
    {
      "cell_type": "code",
      "source": [
        "print(tf.broadcast_to(tf.constant([1, 2, 3]), [2,3]))"
      ],
      "metadata": {
        "id": "PiobK7CuBrM2",
        "outputId": "5f9e5688-9c42-4c84-f60f-f66fbb9a41db",
        "colab": {
          "base_uri": "https://localhost:8080/"
        }
      },
      "execution_count": 79,
      "outputs": [
        {
          "output_type": "stream",
          "name": "stdout",
          "text": [
            "tf.Tensor(\n",
            "[[1 2 3]\n",
            " [1 2 3]], shape=(2, 3), dtype=int32)\n"
          ]
        }
      ]
    },
    {
      "cell_type": "markdown",
      "source": [
        "##不规则张量\n",
        "如果张量的某个轴上的元素个数可变，则称为“不规则”张量。对于不规则数据，**请使用 tf.ragged.RaggedTensor。**\n",
        "\n",
        "例如，下面的例子无法用规则张量表示：\n",
        "![image.png](data:image/png;base64,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)"
      ],
      "metadata": {
        "id": "G8tB8GEcCWdn"
      }
    },
    {
      "cell_type": "code",
      "source": [
        "“tf.RaggedTensor”,形状：[4, None]"
      ],
      "metadata": {
        "id": "u1nGwtObCTKG"
      },
      "execution_count": null,
      "outputs": []
    },
    {
      "cell_type": "code",
      "source": [
        "ragged_list = [\n",
        "    [0, 1, 2, 3],\n",
        "    [4, 5],\n",
        "    [6, 7, 8],\n",
        "    [9]]"
      ],
      "metadata": {
        "id": "zQCTL8O7ClTO"
      },
      "execution_count": 81,
      "outputs": []
    },
    {
      "cell_type": "markdown",
      "source": [
        "###无法将非矩形 Python 序列转换为 Tensor。"
      ],
      "metadata": {
        "id": "9oikdnFkCsPW"
      }
    },
    {
      "cell_type": "code",
      "source": [
        "try:\n",
        "  tensor = tf.constant(ragged_list)\n",
        "except Exception as e:\n",
        "  print(f\"{type(e).__name__}: {e}\")"
      ],
      "metadata": {
        "id": "kE_jsHGHCnXA",
        "outputId": "96375649-0055-45ed-fd74-eb0bbe9db1f1",
        "colab": {
          "base_uri": "https://localhost:8080/"
        }
      },
      "execution_count": 82,
      "outputs": [
        {
          "output_type": "stream",
          "name": "stdout",
          "text": [
            "ValueError: Can't convert non-rectangular Python sequence to Tensor.\n"
          ]
        }
      ]
    },
    {
      "cell_type": "markdown",
      "source": [
        "###应使用** tf.ragged.constant** 来创建 **tf.RaggedTensor：**"
      ],
      "metadata": {
        "id": "vX1MIC2fC3K3"
      }
    },
    {
      "cell_type": "code",
      "source": [
        "ragged_tensor = tf.ragged.constant(ragged_list)\n",
        "print(ragged_tensor)"
      ],
      "metadata": {
        "id": "vKe2_r_9C0SF",
        "outputId": "99f72853-1371-4edc-e952-29f6f7442dd3",
        "colab": {
          "base_uri": "https://localhost:8080/"
        }
      },
      "execution_count": 83,
      "outputs": [
        {
          "output_type": "stream",
          "name": "stdout",
          "text": [
            "<tf.RaggedTensor [[0, 1, 2, 3], [4, 5], [6, 7, 8], [9]]>\n"
          ]
        }
      ]
    },
    {
      "cell_type": "markdown",
      "source": [
        "###tf.RaggedTensor 的形状将包含一些**具有未知长度的轴：**"
      ],
      "metadata": {
        "id": "ROA0ZTJhDAbG"
      }
    },
    {
      "cell_type": "code",
      "source": [
        "print(ragged_tensor.shape)"
      ],
      "metadata": {
        "id": "UdvAjWRBC94e",
        "outputId": "6feacfc9-9d3a-4e7d-aa4d-d8916e2f42ee",
        "colab": {
          "base_uri": "https://localhost:8080/"
        }
      },
      "execution_count": 84,
      "outputs": [
        {
          "output_type": "stream",
          "name": "stdout",
          "text": [
            "(4, None)\n"
          ]
        }
      ]
    },
    {
      "cell_type": "markdown",
      "source": [
        "###字符串张量\n",
        "* tf.string 是一种 dtype，也就是说，在张量中，您可以用字符串（可变长度字节数组）来表示数据。\n",
        "\n",
        "* 字符串是原子类型，无法像 Python 字符串一样编制索引。字符串的长度并不是张量的一个轴。有关操作字符串的函数，请参阅 tf.strings。\n",
        "\n",
        "下面是一个标量字符串张量："
      ],
      "metadata": {
        "id": "ANkpbpKuDQUn"
      }
    },
    {
      "cell_type": "code",
      "source": [
        "# Tensors can be strings, too here is a scalar string.\n",
        "scalar_string_tensor = tf.constant(\"Gray wolf\")\n",
        "print(scalar_string_tensor)"
      ],
      "metadata": {
        "id": "CuTIOdCMDLs9",
        "outputId": "2059bc42-5d2d-4611-81fa-2cf4a1127fde",
        "colab": {
          "base_uri": "https://localhost:8080/"
        }
      },
      "execution_count": 85,
      "outputs": [
        {
          "output_type": "stream",
          "name": "stdout",
          "text": [
            "tf.Tensor(b'Gray wolf', shape=(), dtype=string)\n"
          ]
        }
      ]
    },
    {
      "cell_type": "markdown",
      "source": [
        "###下面是一个字符串向量：\n",
        "![image.png](data:image/png;base64,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)"
      ],
      "metadata": {
        "id": "5Xc-NmwwDbWP"
      }
    },
    {
      "cell_type": "code",
      "source": [
        "# If you have three string tensors of different lengths, this is OK.\n",
        "tensor_of_strings = tf.constant([\"Gray wolf\",\n",
        "                                 \"Quick brown fox\",\n",
        "                                 \"Lazy dog\"])\n",
        "# Note that the shape is (3,). The string length is not included.\n",
        "print(tensor_of_strings)"
      ],
      "metadata": {
        "id": "Ba8A4PPxDMQ-",
        "outputId": "9730feed-8819-45a8-c78c-f91565f5b3b6",
        "colab": {
          "base_uri": "https://localhost:8080/"
        }
      },
      "execution_count": 86,
      "outputs": [
        {
          "output_type": "stream",
          "name": "stdout",
          "text": [
            "tf.Tensor([b'Gray wolf' b'Quick brown fox' b'Lazy dog'], shape=(3,), dtype=string)\n"
          ]
        }
      ]
    },
    {
      "cell_type": "markdown",
      "source": [
        "###在上面的打印输出中，b 前缀表示 tf.string dtype 不是 Unicode 字符串，而是字节字符串。有关在 TensorFlow 如何使用 Unicode 文本的详细信息，请参阅 Unicode 教程。\n",
        "\n",
        "如果传递 **Unicode 字符，则会使用 utf-8 编码。**"
      ],
      "metadata": {
        "id": "4Dx3HerSDmZn"
      }
    },
    {
      "cell_type": "code",
      "source": [
        "tf.constant(\"🥳👍\")"
      ],
      "metadata": {
        "id": "ZmHrkcSrDMi6",
        "outputId": "9520232c-c921-4b93-fece-62a9f0daecad",
        "colab": {
          "base_uri": "https://localhost:8080/"
        }
      },
      "execution_count": 87,
      "outputs": [
        {
          "output_type": "execute_result",
          "data": {
            "text/plain": [
              "<tf.Tensor: shape=(), dtype=string, numpy=b'\\xf0\\x9f\\xa5\\xb3\\xf0\\x9f\\x91\\x8d'>"
            ]
          },
          "metadata": {},
          "execution_count": 87
        }
      ]
    },
    {
      "cell_type": "markdown",
      "source": [
        "###在 tf.strings 中可以找到用于操作字符串的一些基本函数，包括 tf.strings.split。"
      ],
      "metadata": {
        "id": "K7AHpv1XDuvP"
      }
    },
    {
      "cell_type": "code",
      "source": [
        "# You can use split to split a string into a set of tensors\n",
        "print(tf.strings.split(scalar_string_tensor, sep=\" \"))"
      ],
      "metadata": {
        "id": "x9UhNyMMDMzG",
        "outputId": "e0de1e6b-67cc-4d3c-f9b9-afe75502d686",
        "colab": {
          "base_uri": "https://localhost:8080/"
        }
      },
      "execution_count": 88,
      "outputs": [
        {
          "output_type": "stream",
          "name": "stdout",
          "text": [
            "tf.Tensor([b'Gray' b'wolf'], shape=(2,), dtype=string)\n"
          ]
        }
      ]
    },
    {
      "cell_type": "markdown",
      "source": [
        "![image.png](data:image/png;base64,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)"
      ],
      "metadata": {
        "id": "VLqCMBHTD5Mn"
      }
    },
    {
      "cell_type": "code",
      "source": [
        "# ...but it turns into a `RaggedTensor` if you split up a tensor of strings,\n",
        "# as each string might be split into a different number of parts.\n",
        "print(tf.strings.split(tensor_of_strings))"
      ],
      "metadata": {
        "id": "vlACqbveDNF1",
        "outputId": "131907d2-1360-476a-c41a-1a1546827ac8",
        "colab": {
          "base_uri": "https://localhost:8080/"
        }
      },
      "execution_count": 89,
      "outputs": [
        {
          "output_type": "stream",
          "name": "stdout",
          "text": [
            "<tf.RaggedTensor [[b'Gray', b'wolf'], [b'Quick', b'brown', b'fox'], [b'Lazy', b'dog']]>\n"
          ]
        }
      ]
    },
    {
      "cell_type": "markdown",
      "source": [
        "###以及 tf.string.to_number："
      ],
      "metadata": {
        "id": "fvDb2DJAEWZO"
      }
    },
    {
      "cell_type": "code",
      "source": [
        "text = tf.constant(\"1 10 100\")\n",
        "print(tf.strings.to_number(tf.strings.split(text, \" \")))"
      ],
      "metadata": {
        "id": "vAh_ueMoDNSd",
        "outputId": "84610fb5-922c-4f64-c930-97dc1104d3cf",
        "colab": {
          "base_uri": "https://localhost:8080/"
        }
      },
      "execution_count": 90,
      "outputs": [
        {
          "output_type": "stream",
          "name": "stdout",
          "text": [
            "tf.Tensor([  1.  10. 100.], shape=(3,), dtype=float32)\n"
          ]
        }
      ]
    },
    {
      "cell_type": "markdown",
      "source": [
        "###虽然不能使用 tf.cast 将字符串张量转换为数值，但是可以先将其转换为字节，然后转换为数值。"
      ],
      "metadata": {
        "id": "rDJiajvmExxW"
      }
    },
    {
      "cell_type": "code",
      "source": [
        "byte_strings = tf.strings.bytes_split(tf.constant(\"Duck\"))\n",
        "byte_ints = tf.io.decode_raw(tf.constant(\"Duck\"), tf.uint8)\n",
        "print(\"Byte strings:\", byte_strings)\n",
        "print(\"Bytes:\", byte_ints)"
      ],
      "metadata": {
        "id": "C4XA05PqERit",
        "outputId": "d6713257-378c-4066-de90-e51f1d3d653f",
        "colab": {
          "base_uri": "https://localhost:8080/"
        }
      },
      "execution_count": 91,
      "outputs": [
        {
          "output_type": "stream",
          "name": "stdout",
          "text": [
            "Byte strings: tf.Tensor([b'D' b'u' b'c' b'k'], shape=(4,), dtype=string)\n",
            "Bytes: tf.Tensor([ 68 117  99 107], shape=(4,), dtype=uint8)\n"
          ]
        }
      ]
    },
    {
      "cell_type": "markdown",
      "source": [
        "###tf.string dtype 可用于 TensorFlow 中的所有原始字节数据。tf.io 模块包含在数据与字节类型之间进行相互转换的函数，包括解码图像和解析 csv 的函数。"
      ],
      "metadata": {
        "id": "tweXyb5qFzQG"
      }
    },
    {
      "cell_type": "code",
      "source": [
        "# Or split it up as unicode and then decode it\n",
        "unicode_bytes = tf.constant(\"アヒル 🦆\")\n",
        "unicode_char_bytes = tf.strings.unicode_split(unicode_bytes, \"UTF-8\")\n",
        "unicode_values = tf.strings.unicode_decode(unicode_bytes, \"UTF-8\")\n",
        "\n",
        "print(\"\\nUnicode bytes:\", unicode_bytes)\n",
        "print(\"\\nUnicode chars:\", unicode_char_bytes)\n",
        "print(\"\\nUnicode values:\", unicode_values)"
      ],
      "metadata": {
        "id": "LqM-wwgzERvN",
        "outputId": "a4fd7060-c84d-4ac7-892e-c88a9d602aec",
        "colab": {
          "base_uri": "https://localhost:8080/"
        }
      },
      "execution_count": 92,
      "outputs": [
        {
          "output_type": "stream",
          "name": "stdout",
          "text": [
            "\n",
            "Unicode bytes: tf.Tensor(b'\\xe3\\x82\\xa2\\xe3\\x83\\x92\\xe3\\x83\\xab \\xf0\\x9f\\xa6\\x86', shape=(), dtype=string)\n",
            "\n",
            "Unicode chars: tf.Tensor([b'\\xe3\\x82\\xa2' b'\\xe3\\x83\\x92' b'\\xe3\\x83\\xab' b' ' b'\\xf0\\x9f\\xa6\\x86'], shape=(5,), dtype=string)\n",
            "\n",
            "Unicode values: tf.Tensor([ 12450  12498  12523     32 129414], shape=(5,), dtype=int32)\n"
          ]
        }
      ]
    },
    {
      "cell_type": "markdown",
      "source": [
        "###稀疏张量\n",
        "* 在某些情况下，数据很稀疏，比如说在一个非常宽的嵌入空间中。为了高效存储稀疏数据，TensorFlow ***支持 tf.sparse.SparseTensor 和相关运算。***\n",
        "![image.png](data:image/png;base64,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)"
      ],
      "metadata": {
        "id": "6qqplis4HP1e"
      }
    },
    {
      "cell_type": "markdown",
      "source": [
        "###sparse.SparseTensor\n",
        "          (indices=[[0, 0], [1, 2]],  # 数据的索引--位置\n",
        "          values=[1, 2],  # 值-数据\n",
        "          dense_shape=[3, 4])  # 形状\n",
        "* indices---数据的索引\n",
        "* values -- 数据的值\n",
        "* dense_shape---矩阵的形状\n",
        "* tf.sparse.to_dense(sparse_tensor) --- **空的位置用0填充**"
      ],
      "metadata": {
        "id": "Kabww9kRHzhu"
      }
    },
    {
      "cell_type": "code",
      "source": [
        "# Sparse tensors store values by index in a memory-efficient manner\n",
        "sparse_tensor = tf.sparse.SparseTensor(indices=[[0, 0], [1, 2]],  # 数据的索引--位置\n",
        "                          values=[1, 2],  # 值-数据\n",
        "                          dense_shape=[3, 4])  # 形状\n",
        "print(sparse_tensor, \"\\n\")\n",
        "\n",
        "# You can convert sparse tensors to dense\n",
        "print(tf.sparse.to_dense(sparse_tensor))  # 空的位置用0填充"
      ],
      "metadata": {
        "id": "hzrkNwSkER6t",
        "outputId": "04f98bd6-2e69-4d55-c2a2-f4a2c0b036b0",
        "colab": {
          "base_uri": "https://localhost:8080/"
        }
      },
      "execution_count": 93,
      "outputs": [
        {
          "output_type": "stream",
          "name": "stdout",
          "text": [
            "SparseTensor(indices=tf.Tensor(\n",
            "[[0 0]\n",
            " [1 2]], shape=(2, 2), dtype=int64), values=tf.Tensor([1 2], shape=(2,), dtype=int32), dense_shape=tf.Tensor([3 4], shape=(2,), dtype=int64)) \n",
            "\n",
            "tf.Tensor(\n",
            "[[1 0 0 0]\n",
            " [0 0 2 0]\n",
            " [0 0 0 0]], shape=(3, 4), dtype=int32)\n"
          ]
        }
      ]
    },
    {
      "cell_type": "markdown",
      "metadata": {
        "id": "F2OoXbe7aSVl"
      },
      "source": [
        "#Sources\n",
        "Most of the information is taken direclty from the TensorFlow website which can be found below.\n",
        "\n",
        "https://www.tensorflow.org/guide/tensor"
      ]
    }
  ]
}
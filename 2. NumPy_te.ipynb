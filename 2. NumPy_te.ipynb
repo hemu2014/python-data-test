{
  "cells": [
    {
      "cell_type": "markdown",
      "metadata": {
        "id": "view-in-github",
        "colab_type": "text"
      },
      "source": [
        "<a href=\"https://colab.research.google.com/github/hemu2014/python-data-test/blob/main/2.%20NumPy_te.ipynb\" target=\"_parent\"><img src=\"https://colab.research.google.com/assets/colab-badge.svg\" alt=\"Open In Colab\"/></a>"
      ]
    },
    {
      "cell_type": "markdown",
      "metadata": {
        "id": "eny5-_oylcce"
      },
      "source": [
        "![rmotr](https://user-images.githubusercontent.com/7065401/52071918-bda15380-2562-11e9-828c-7f95297e4a82.png)\n",
        "<hr style=\"margin-bottom: 40px;\">\n",
        "\n",
        "<img src=\"https://user-images.githubusercontent.com/7065401/39118381-910eb0c2-46e9-11e8-81f1-a5b897401c23.jpeg\"\n",
        "    style=\"width:300px; float: right; margin: 0 40px 40px 40px;\"></img>\n",
        "\n",
        "# Numpy: Numeric computing library\n",
        "\n",
        "NumPy (Numerical Python) is one of the core packages for numerical computing in Python. Pandas, Matplotlib, Statmodels and many other Scientific libraries rely on NumPy.\n",
        "\n",
        "NumPy major contributions are:\n",
        "\n",
        "* Efficient numeric computation with C primitives\n",
        "* Efficient collections with vectorized operations\n",
        "* An integrated and natural Linear Algebra API\n",
        "* A C API for connecting NumPy with libraries written in C, C++, or FORTRAN.\n",
        "\n",
        "Let's develop on efficiency. In Python, **everything is an object**, which means that even simple ints are also objects, with all the required machinery to make object work. We call them \"Boxed Ints\". In contrast, NumPy uses primitive numeric types (floats, ints) which makes storing and computation efficient."
      ]
    },
    {
      "cell_type": "markdown",
      "metadata": {
        "id": "0rwGtbeBlccf"
      },
      "source": [
        "<img src=\"https://docs.google.com/drawings/d/e/2PACX-1vTkDtKYMUVdpfVb3TTpr_8rrVtpal2dOknUUEOu85wJ1RitzHHf5nsJqz1O0SnTt8BwgJjxXMYXyIqs/pub?w=726&h=396\" />\n"
      ]
    },
    {
      "cell_type": "markdown",
      "metadata": {
        "id": "imNUvYo-lccf"
      },
      "source": [
        "![purple-divider](https://user-images.githubusercontent.com/7065401/52071927-c1cd7100-2562-11e9-908a-dde91ba14e59.png)\n",
        "\n",
        "## Hands on!"
      ]
    },
    {
      "cell_type": "code",
      "execution_count": 1,
      "metadata": {
        "id": "GCTU2QKzlccf"
      },
      "outputs": [],
      "source": [
        "import sys\n",
        "import numpy as np"
      ]
    },
    {
      "cell_type": "markdown",
      "metadata": {
        "id": "5tQk0oRclccf"
      },
      "source": [
        "## Basic Numpy Arrays"
      ]
    },
    {
      "cell_type": "code",
      "execution_count": 2,
      "metadata": {
        "id": "0jf4VX3clccf",
        "outputId": "bc3e451c-fbac-4403-b72c-b341762f15ae",
        "colab": {
          "base_uri": "https://localhost:8080/"
        }
      },
      "outputs": [
        {
          "output_type": "execute_result",
          "data": {
            "text/plain": [
              "array([1, 2, 3, 4])"
            ]
          },
          "metadata": {},
          "execution_count": 2
        }
      ],
      "source": [
        "np.array([1, 2, 3, 4])"
      ]
    },
    {
      "cell_type": "code",
      "source": [
        "np.array([1, 3, 6])"
      ],
      "metadata": {
        "id": "TkKBoImKl-Nf",
        "outputId": "faa06d8b-30ff-46b2-cf52-891a6d3c35f5",
        "colab": {
          "base_uri": "https://localhost:8080/"
        }
      },
      "execution_count": 3,
      "outputs": [
        {
          "output_type": "execute_result",
          "data": {
            "text/plain": [
              "array([1, 3, 6])"
            ]
          },
          "metadata": {},
          "execution_count": 3
        }
      ]
    },
    {
      "cell_type": "code",
      "execution_count": 4,
      "metadata": {
        "id": "OwQ4FMDAlccg"
      },
      "outputs": [],
      "source": [
        "a = np.array([1, 2, 3, 4])"
      ]
    },
    {
      "cell_type": "code",
      "execution_count": 5,
      "metadata": {
        "id": "XB_MCzLClccg"
      },
      "outputs": [],
      "source": [
        "b = np.array([0, .5, 1, 1.5, 2])"
      ]
    },
    {
      "cell_type": "code",
      "execution_count": 6,
      "metadata": {
        "id": "wV_ID__Slccg",
        "outputId": "65a567c6-48b0-4a9f-daec-ed306986742d",
        "colab": {
          "base_uri": "https://localhost:8080/"
        }
      },
      "outputs": [
        {
          "output_type": "execute_result",
          "data": {
            "text/plain": [
              "(np.int64(1), np.int64(2))"
            ]
          },
          "metadata": {},
          "execution_count": 6
        }
      ],
      "source": [
        "a[0], a[1]"
      ]
    },
    {
      "cell_type": "code",
      "execution_count": 7,
      "metadata": {
        "id": "tB83RS61lccg",
        "outputId": "2bb2d634-f0d4-4aa0-edcf-93b68700f011",
        "colab": {
          "base_uri": "https://localhost:8080/"
        }
      },
      "outputs": [
        {
          "output_type": "execute_result",
          "data": {
            "text/plain": [
              "array([1, 2, 3, 4])"
            ]
          },
          "metadata": {},
          "execution_count": 7
        }
      ],
      "source": [
        "a[0:]"
      ]
    },
    {
      "cell_type": "markdown",
      "source": [
        "类似于python中的切片操作"
      ],
      "metadata": {
        "id": "CC-XMgmnmLL2"
      }
    },
    {
      "cell_type": "code",
      "execution_count": 8,
      "metadata": {
        "id": "uRo2Vavolccg",
        "outputId": "0dc5a819-5e03-4bf6-e8d5-03639bcc5203",
        "colab": {
          "base_uri": "https://localhost:8080/"
        }
      },
      "outputs": [
        {
          "output_type": "execute_result",
          "data": {
            "text/plain": [
              "array([2, 3])"
            ]
          },
          "metadata": {},
          "execution_count": 8
        }
      ],
      "source": [
        "a[1:3]"
      ]
    },
    {
      "cell_type": "code",
      "source": [
        "a"
      ],
      "metadata": {
        "id": "5BarsYSwmV2e",
        "outputId": "ac94a7ec-cd01-4266-909f-8aaabf5f3a3b",
        "colab": {
          "base_uri": "https://localhost:8080/"
        }
      },
      "execution_count": 9,
      "outputs": [
        {
          "output_type": "execute_result",
          "data": {
            "text/plain": [
              "array([1, 2, 3, 4])"
            ]
          },
          "metadata": {},
          "execution_count": 9
        }
      ]
    },
    {
      "cell_type": "code",
      "execution_count": 10,
      "metadata": {
        "scrolled": true,
        "id": "TrSNBJ05lcch",
        "outputId": "6a61e0b3-760a-457f-c942-33e118eaa14d",
        "colab": {
          "base_uri": "https://localhost:8080/"
        }
      },
      "outputs": [
        {
          "output_type": "execute_result",
          "data": {
            "text/plain": [
              "array([2, 3])"
            ]
          },
          "metadata": {},
          "execution_count": 10
        }
      ],
      "source": [
        "a[1:-1]"
      ]
    },
    {
      "cell_type": "code",
      "execution_count": 11,
      "metadata": {
        "id": "nDlJOnaDlcch",
        "outputId": "ca07ef6e-b0a4-458b-a983-d48242517fa9",
        "colab": {
          "base_uri": "https://localhost:8080/"
        }
      },
      "outputs": [
        {
          "output_type": "execute_result",
          "data": {
            "text/plain": [
              "array([1, 3])"
            ]
          },
          "metadata": {},
          "execution_count": 11
        }
      ],
      "source": [
        "a[::2]"
      ]
    },
    {
      "cell_type": "code",
      "execution_count": 12,
      "metadata": {
        "id": "J7KBjQBQlcch",
        "outputId": "0866027b-b8ea-45b8-a79e-5d589cbfc808",
        "colab": {
          "base_uri": "https://localhost:8080/"
        }
      },
      "outputs": [
        {
          "output_type": "execute_result",
          "data": {
            "text/plain": [
              "array([0. , 0.5, 1. , 1.5, 2. ])"
            ]
          },
          "metadata": {},
          "execution_count": 12
        }
      ],
      "source": [
        "b"
      ]
    },
    {
      "cell_type": "code",
      "execution_count": 13,
      "metadata": {
        "scrolled": true,
        "id": "cszZLMP3lcch",
        "outputId": "e7d601e1-6f4f-4e87-8bf4-d0931bb967da",
        "colab": {
          "base_uri": "https://localhost:8080/"
        }
      },
      "outputs": [
        {
          "output_type": "execute_result",
          "data": {
            "text/plain": [
              "(np.float64(0.0), np.float64(1.0), np.float64(2.0))"
            ]
          },
          "metadata": {},
          "execution_count": 13
        }
      ],
      "source": [
        "b[0], b[2], b[-1]"
      ]
    },
    {
      "cell_type": "markdown",
      "source": [
        "通过索引查询数据--将下标写入列表中"
      ],
      "metadata": {
        "id": "T4-ditrNm4qH"
      }
    },
    {
      "cell_type": "code",
      "source": [
        "b[[0, 2, -1]]"
      ],
      "metadata": {
        "id": "BCjHDb5QmxqA",
        "outputId": "10afcbf6-68d9-4bf7-9274-dd936052a5cc",
        "colab": {
          "base_uri": "https://localhost:8080/"
        }
      },
      "execution_count": 14,
      "outputs": [
        {
          "output_type": "execute_result",
          "data": {
            "text/plain": [
              "array([0., 1., 2.])"
            ]
          },
          "metadata": {},
          "execution_count": 14
        }
      ]
    },
    {
      "cell_type": "code",
      "execution_count": 15,
      "metadata": {
        "id": "6TlF2D5jlcch",
        "outputId": "7581b3a6-ffc3-4ff4-ea5b-2f6e967b58af",
        "colab": {
          "base_uri": "https://localhost:8080/"
        }
      },
      "outputs": [
        {
          "output_type": "execute_result",
          "data": {
            "text/plain": [
              "array([0., 1., 2.])"
            ]
          },
          "metadata": {},
          "execution_count": 15
        }
      ],
      "source": [
        "b[[0, 2, -1]]"
      ]
    },
    {
      "cell_type": "markdown",
      "metadata": {
        "id": "JbmIZ_x4lcch"
      },
      "source": [
        "![green-divider](https://user-images.githubusercontent.com/7065401/52071924-c003ad80-2562-11e9-8297-1c6595f8a7ff.png)\n",
        "\n",
        "## Array Types"
      ]
    },
    {
      "cell_type": "code",
      "execution_count": 16,
      "metadata": {
        "id": "UVQgwol1lcch",
        "outputId": "c54326fb-059b-40be-88a1-021e1a948544",
        "colab": {
          "base_uri": "https://localhost:8080/"
        }
      },
      "outputs": [
        {
          "output_type": "execute_result",
          "data": {
            "text/plain": [
              "array([1, 2, 3, 4])"
            ]
          },
          "metadata": {},
          "execution_count": 16
        }
      ],
      "source": [
        "a"
      ]
    },
    {
      "cell_type": "code",
      "execution_count": 17,
      "metadata": {
        "id": "Zqgu5-5Wlcci",
        "outputId": "41a5d13a-dcd7-4718-bf3b-1aa7d4af9ae4",
        "colab": {
          "base_uri": "https://localhost:8080/"
        }
      },
      "outputs": [
        {
          "output_type": "execute_result",
          "data": {
            "text/plain": [
              "dtype('int64')"
            ]
          },
          "metadata": {},
          "execution_count": 17
        }
      ],
      "source": [
        "a.dtype"
      ]
    },
    {
      "cell_type": "code",
      "execution_count": 18,
      "metadata": {
        "id": "_FnEi2Nrlcci",
        "outputId": "519028b7-402f-4158-9bad-8ae278ef6fd0",
        "colab": {
          "base_uri": "https://localhost:8080/"
        }
      },
      "outputs": [
        {
          "output_type": "execute_result",
          "data": {
            "text/plain": [
              "array([0. , 0.5, 1. , 1.5, 2. ])"
            ]
          },
          "metadata": {},
          "execution_count": 18
        }
      ],
      "source": [
        "b"
      ]
    },
    {
      "cell_type": "code",
      "execution_count": 19,
      "metadata": {
        "id": "QnAFQJeAlcci",
        "outputId": "6a1ab2e5-e3a8-4804-b281-15d3d118d3cc",
        "colab": {
          "base_uri": "https://localhost:8080/"
        }
      },
      "outputs": [
        {
          "output_type": "execute_result",
          "data": {
            "text/plain": [
              "dtype('float64')"
            ]
          },
          "metadata": {},
          "execution_count": 19
        }
      ],
      "source": [
        "b.dtype"
      ]
    },
    {
      "cell_type": "code",
      "execution_count": 21,
      "metadata": {
        "scrolled": true,
        "id": "8eNiSB1wlcci",
        "outputId": "d5d465fb-dcc9-4fb3-c452-af159d637e9a",
        "colab": {
          "base_uri": "https://localhost:8080/"
        }
      },
      "outputs": [
        {
          "output_type": "execute_result",
          "data": {
            "text/plain": [
              "array([1., 2., 3., 4.])"
            ]
          },
          "metadata": {},
          "execution_count": 21
        }
      ],
      "source": [
        "np.array([1, 2, 3, 4], dtype=np.float64)"
      ]
    },
    {
      "cell_type": "code",
      "execution_count": 22,
      "metadata": {
        "scrolled": true,
        "id": "mLEdIhiHlcci",
        "outputId": "697e94e9-4e00-44dd-e48b-894f2093b395",
        "colab": {
          "base_uri": "https://localhost:8080/"
        }
      },
      "outputs": [
        {
          "output_type": "execute_result",
          "data": {
            "text/plain": [
              "array([1, 2, 3, 4], dtype=int8)"
            ]
          },
          "metadata": {},
          "execution_count": 22
        }
      ],
      "source": [
        "np.array([1, 2, 3, 4], dtype=np.int8)"
      ]
    },
    {
      "cell_type": "code",
      "execution_count": 23,
      "metadata": {
        "id": "xrL62phnlcci"
      },
      "outputs": [],
      "source": [
        "c = np.array(['a', 'b', 'c'])"
      ]
    },
    {
      "cell_type": "code",
      "execution_count": 24,
      "metadata": {
        "id": "HnQg52walcci",
        "outputId": "e6333edc-edc7-4c2d-a2fa-e221f02cd2a3",
        "colab": {
          "base_uri": "https://localhost:8080/"
        }
      },
      "outputs": [
        {
          "output_type": "execute_result",
          "data": {
            "text/plain": [
              "dtype('<U1')"
            ]
          },
          "metadata": {},
          "execution_count": 24
        }
      ],
      "source": [
        "c.dtype"
      ]
    },
    {
      "cell_type": "code",
      "execution_count": 25,
      "metadata": {
        "id": "ELjv1bZ_lcci"
      },
      "outputs": [],
      "source": [
        "d = np.array([{'a': 1}, sys])"
      ]
    },
    {
      "cell_type": "code",
      "execution_count": 26,
      "metadata": {
        "id": "QzBiqJoKlcci",
        "outputId": "2a5f5d76-b131-49b3-b931-19e49bb5549f",
        "colab": {
          "base_uri": "https://localhost:8080/"
        }
      },
      "outputs": [
        {
          "output_type": "execute_result",
          "data": {
            "text/plain": [
              "dtype('O')"
            ]
          },
          "metadata": {},
          "execution_count": 26
        }
      ],
      "source": [
        "d.dtype"
      ]
    },
    {
      "cell_type": "markdown",
      "metadata": {
        "id": "AYEvjERwlccj"
      },
      "source": [
        "![green-divider](https://user-images.githubusercontent.com/7065401/52071924-c003ad80-2562-11e9-8297-1c6595f8a7ff.png)\n",
        "\n",
        "## Dimensions and shapes"
      ]
    },
    {
      "cell_type": "code",
      "execution_count": 27,
      "metadata": {
        "id": "aisSR6gnlccj"
      },
      "outputs": [],
      "source": [
        "A = np.array([\n",
        "    [1, 2, 3],\n",
        "    [4, 5, 6]\n",
        "])"
      ]
    },
    {
      "cell_type": "code",
      "execution_count": 28,
      "metadata": {
        "id": "pHFTi6t7lccj",
        "outputId": "6cc2117d-fe24-4942-98a8-e45c278afc7c",
        "colab": {
          "base_uri": "https://localhost:8080/"
        }
      },
      "outputs": [
        {
          "output_type": "execute_result",
          "data": {
            "text/plain": [
              "(2, 3)"
            ]
          },
          "metadata": {},
          "execution_count": 28
        }
      ],
      "source": [
        "A.shape"
      ]
    },
    {
      "cell_type": "code",
      "execution_count": 30,
      "metadata": {
        "id": "NsIk-V2Vlccj",
        "outputId": "5d2fcbe8-3af0-4a6f-91a1-761adf2423e4",
        "colab": {
          "base_uri": "https://localhost:8080/"
        }
      },
      "outputs": [
        {
          "output_type": "execute_result",
          "data": {
            "text/plain": [
              "2"
            ]
          },
          "metadata": {},
          "execution_count": 30
        }
      ],
      "source": [
        "A.ndim"
      ]
    },
    {
      "cell_type": "code",
      "source": [
        "np.ndim(A)"
      ],
      "metadata": {
        "id": "e5bKnDFyo5ZB",
        "outputId": "057301aa-4185-4621-f1eb-f4c0b2ba1ac2",
        "colab": {
          "base_uri": "https://localhost:8080/"
        }
      },
      "execution_count": 31,
      "outputs": [
        {
          "output_type": "execute_result",
          "data": {
            "text/plain": [
              "2"
            ]
          },
          "metadata": {},
          "execution_count": 31
        }
      ]
    },
    {
      "cell_type": "code",
      "execution_count": 29,
      "metadata": {
        "id": "rtQPhp7ylccj",
        "outputId": "2465a370-dae5-428e-f7af-8572e4f279ff",
        "colab": {
          "base_uri": "https://localhost:8080/"
        }
      },
      "outputs": [
        {
          "output_type": "execute_result",
          "data": {
            "text/plain": [
              "6"
            ]
          },
          "metadata": {},
          "execution_count": 29
        }
      ],
      "source": [
        "A.size"
      ]
    },
    {
      "cell_type": "code",
      "execution_count": 32,
      "metadata": {
        "id": "5e3mEU2Elccj"
      },
      "outputs": [],
      "source": [
        "B = np.array([\n",
        "    [\n",
        "        [12, 11, 10],\n",
        "        [9, 8, 7],\n",
        "    ],\n",
        "    [\n",
        "        [6, 5, 4],\n",
        "        [3, 2, 1]\n",
        "    ]\n",
        "])"
      ]
    },
    {
      "cell_type": "code",
      "execution_count": 33,
      "metadata": {
        "id": "-yyo5jMtlccj",
        "outputId": "3590a5f2-746d-4bc8-835a-b386765bd9de",
        "colab": {
          "base_uri": "https://localhost:8080/"
        }
      },
      "outputs": [
        {
          "output_type": "execute_result",
          "data": {
            "text/plain": [
              "array([[[12, 11, 10],\n",
              "        [ 9,  8,  7]],\n",
              "\n",
              "       [[ 6,  5,  4],\n",
              "        [ 3,  2,  1]]])"
            ]
          },
          "metadata": {},
          "execution_count": 33
        }
      ],
      "source": [
        "B"
      ]
    },
    {
      "cell_type": "code",
      "execution_count": null,
      "metadata": {
        "id": "ktJch669lccj",
        "outputId": "e13af6b7-9f6b-4a31-c7fe-00cd84c7b0cf"
      },
      "outputs": [
        {
          "data": {
            "text/plain": [
              "(2, 2, 3)"
            ]
          },
          "execution_count": 29,
          "metadata": {},
          "output_type": "execute_result"
        }
      ],
      "source": [
        "B.shape"
      ]
    },
    {
      "cell_type": "code",
      "source": [
        "C = np.array([\n",
        "    [\n",
        "        [12, 11, 10, 2],\n",
        "        [9, 8, 7, 1],\n",
        "    ],\n",
        "    [\n",
        "        [6, 5, 4, 3],\n",
        "        [3, 2, 1, 4]\n",
        "    ],\n",
        "    [\n",
        "        [1, 5, 4, 4],\n",
        "        [3, 2, 1, 3]\n",
        "    ]\n",
        "])"
      ],
      "metadata": {
        "id": "DIpw1_snpfM6"
      },
      "execution_count": 35,
      "outputs": []
    },
    {
      "cell_type": "code",
      "source": [
        "C"
      ],
      "metadata": {
        "id": "T_jQAcynp2LC",
        "outputId": "7d9213b9-52d2-459b-c571-39c528cd2ffa",
        "colab": {
          "base_uri": "https://localhost:8080/"
        }
      },
      "execution_count": 36,
      "outputs": [
        {
          "output_type": "execute_result",
          "data": {
            "text/plain": [
              "array([[[12, 11, 10,  2],\n",
              "        [ 9,  8,  7,  1]],\n",
              "\n",
              "       [[ 6,  5,  4,  3],\n",
              "        [ 3,  2,  1,  4]],\n",
              "\n",
              "       [[ 1,  5,  4,  4],\n",
              "        [ 3,  2,  1,  3]]])"
            ]
          },
          "metadata": {},
          "execution_count": 36
        }
      ]
    },
    {
      "cell_type": "code",
      "source": [
        "C.shape"
      ],
      "metadata": {
        "id": "szDBMrwCp39Z",
        "outputId": "e802b2df-d012-4444-e42a-2041b7b7c893",
        "colab": {
          "base_uri": "https://localhost:8080/"
        }
      },
      "execution_count": 37,
      "outputs": [
        {
          "output_type": "execute_result",
          "data": {
            "text/plain": [
              "(3, 2, 4)"
            ]
          },
          "metadata": {},
          "execution_count": 37
        }
      ]
    },
    {
      "cell_type": "code",
      "source": [
        "C.ndim"
      ],
      "metadata": {
        "id": "B1uzKoC-p77x",
        "outputId": "7eb4cdaf-e83e-4f57-d1a8-3e165279fa61",
        "colab": {
          "base_uri": "https://localhost:8080/"
        }
      },
      "execution_count": 39,
      "outputs": [
        {
          "output_type": "execute_result",
          "data": {
            "text/plain": [
              "3"
            ]
          },
          "metadata": {},
          "execution_count": 39
        }
      ]
    },
    {
      "cell_type": "code",
      "source": [
        "C.size"
      ],
      "metadata": {
        "id": "OwIXsVTmqCgx",
        "outputId": "ce44a045-ec71-42d8-8dc9-2b66d75676cc",
        "colab": {
          "base_uri": "https://localhost:8080/"
        }
      },
      "execution_count": 42,
      "outputs": [
        {
          "output_type": "execute_result",
          "data": {
            "text/plain": [
              "24"
            ]
          },
          "metadata": {},
          "execution_count": 42
        }
      ]
    },
    {
      "cell_type": "code",
      "execution_count": 40,
      "metadata": {
        "id": "2iQg0rIllccj",
        "outputId": "724c9af4-d6f3-48ef-f7ce-9e85c9057f7b",
        "colab": {
          "base_uri": "https://localhost:8080/"
        }
      },
      "outputs": [
        {
          "output_type": "execute_result",
          "data": {
            "text/plain": [
              "3"
            ]
          },
          "metadata": {},
          "execution_count": 40
        }
      ],
      "source": [
        "B.ndim"
      ]
    },
    {
      "cell_type": "code",
      "execution_count": 41,
      "metadata": {
        "id": "hI2lP4RXlcck",
        "outputId": "e9b92e59-cf77-4d8a-bed2-da2da42f0f83",
        "colab": {
          "base_uri": "https://localhost:8080/"
        }
      },
      "outputs": [
        {
          "output_type": "execute_result",
          "data": {
            "text/plain": [
              "12"
            ]
          },
          "metadata": {},
          "execution_count": 41
        }
      ],
      "source": [
        "B.size"
      ]
    },
    {
      "cell_type": "markdown",
      "metadata": {
        "id": "xM8b3hhdlcck"
      },
      "source": [
        "If the shape isn't consistent, it'll just fall back to regular Python objects:"
      ]
    },
    {
      "cell_type": "code",
      "execution_count": 48,
      "metadata": {
        "id": "H6oaQ1NNlcck"
      },
      "outputs": [],
      "source": [
        "D = np.array([\n",
        "    [\n",
        "        [12, 11, 10],\n",
        "        [9, 8, 7],\n",
        "    ],\n",
        "    [\n",
        "        [6, 5, 4]\n",
        "    ]\n",
        "], dtype=\"object\")"
      ]
    },
    {
      "cell_type": "code",
      "execution_count": 49,
      "metadata": {
        "id": "nGeBkcPLlccp",
        "outputId": "8d083a5a-bd0a-4dec-fa30-086c22e24fe6",
        "colab": {
          "base_uri": "https://localhost:8080/"
        }
      },
      "outputs": [
        {
          "output_type": "execute_result",
          "data": {
            "text/plain": [
              "dtype('O')"
            ]
          },
          "metadata": {},
          "execution_count": 49
        }
      ],
      "source": [
        "D.dtype"
      ]
    },
    {
      "cell_type": "code",
      "execution_count": 50,
      "metadata": {
        "id": "-XqMivgKlccp",
        "outputId": "1a6e9e13-365c-4848-c051-563526d1c023",
        "colab": {
          "base_uri": "https://localhost:8080/"
        }
      },
      "outputs": [
        {
          "output_type": "execute_result",
          "data": {
            "text/plain": [
              "(2,)"
            ]
          },
          "metadata": {},
          "execution_count": 50
        }
      ],
      "source": [
        "D.shape"
      ]
    },
    {
      "cell_type": "code",
      "execution_count": 51,
      "metadata": {
        "id": "IPfAUM9klccq",
        "outputId": "f0ee0201-12c5-4793-f153-75a8b66f251f",
        "colab": {
          "base_uri": "https://localhost:8080/"
        }
      },
      "outputs": [
        {
          "output_type": "execute_result",
          "data": {
            "text/plain": [
              "2"
            ]
          },
          "metadata": {},
          "execution_count": 51
        }
      ],
      "source": [
        "D.size"
      ]
    },
    {
      "cell_type": "code",
      "execution_count": 53,
      "metadata": {
        "id": "pHq8TICZlccq",
        "outputId": "0f821fd3-9fb6-4e7a-efed-1c61f6a82d56",
        "colab": {
          "base_uri": "https://localhost:8080/"
        }
      },
      "outputs": [
        {
          "output_type": "execute_result",
          "data": {
            "text/plain": [
              "list"
            ]
          },
          "metadata": {},
          "execution_count": 53
        }
      ],
      "source": [
        "type(D[0])"
      ]
    },
    {
      "cell_type": "markdown",
      "metadata": {
        "id": "5FOS48pilccq"
      },
      "source": [
        "![green-divider](https://user-images.githubusercontent.com/7065401/52071924-c003ad80-2562-11e9-8297-1c6595f8a7ff.png)\n",
        "\n",
        "## Indexing and Slicing of Matrices"
      ]
    },
    {
      "cell_type": "code",
      "execution_count": 54,
      "metadata": {
        "id": "RgF1g-6Xlccq"
      },
      "outputs": [],
      "source": [
        "# Square matrix\n",
        "A = np.array([\n",
        "#.   0. 1. 2\n",
        "    [1, 2, 3], # 0\n",
        "    [4, 5, 6], # 1\n",
        "    [7, 8, 9]  # 2\n",
        "])"
      ]
    },
    {
      "cell_type": "code",
      "execution_count": 55,
      "metadata": {
        "id": "MBzFXeNilccq",
        "outputId": "bea609ee-7488-42fb-c630-38737bee2ad0",
        "colab": {
          "base_uri": "https://localhost:8080/"
        }
      },
      "outputs": [
        {
          "output_type": "execute_result",
          "data": {
            "text/plain": [
              "array([4, 5, 6])"
            ]
          },
          "metadata": {},
          "execution_count": 55
        }
      ],
      "source": [
        "A[1]"
      ]
    },
    {
      "cell_type": "code",
      "execution_count": 56,
      "metadata": {
        "id": "APkNeu5blccq",
        "outputId": "3100875c-6602-4da0-8eea-dae630ef3a47",
        "colab": {
          "base_uri": "https://localhost:8080/"
        }
      },
      "outputs": [
        {
          "output_type": "execute_result",
          "data": {
            "text/plain": [
              "np.int64(4)"
            ]
          },
          "metadata": {},
          "execution_count": 56
        }
      ],
      "source": [
        "A[1][0]"
      ]
    },
    {
      "cell_type": "code",
      "execution_count": null,
      "metadata": {
        "id": "gZ6PUE2flccq"
      },
      "outputs": [],
      "source": [
        "# A[d1, d2, d3, d4]"
      ]
    },
    {
      "cell_type": "code",
      "execution_count": 57,
      "metadata": {
        "id": "05Hmr0Iglccq",
        "outputId": "edc2053e-7b72-4cc8-9029-4b670ed90da6",
        "colab": {
          "base_uri": "https://localhost:8080/"
        }
      },
      "outputs": [
        {
          "output_type": "execute_result",
          "data": {
            "text/plain": [
              "np.int64(4)"
            ]
          },
          "metadata": {},
          "execution_count": 57
        }
      ],
      "source": [
        "A[1, 0]"
      ]
    },
    {
      "cell_type": "code",
      "execution_count": 58,
      "metadata": {
        "scrolled": true,
        "id": "gJ-a0Znmlccq",
        "outputId": "f7264444-13f6-4fdc-d339-b34a2c4003ec",
        "colab": {
          "base_uri": "https://localhost:8080/"
        }
      },
      "outputs": [
        {
          "output_type": "execute_result",
          "data": {
            "text/plain": [
              "array([[1, 2, 3],\n",
              "       [4, 5, 6]])"
            ]
          },
          "metadata": {},
          "execution_count": 58
        }
      ],
      "source": [
        "A[0:2]"
      ]
    },
    {
      "cell_type": "markdown",
      "source": [
        "每行数据只取前两位"
      ],
      "metadata": {
        "id": "E4zP5A-ps2_F"
      }
    },
    {
      "cell_type": "code",
      "execution_count": 59,
      "metadata": {
        "id": "VJMxaZRXlccq",
        "outputId": "9e59235d-eb65-43f6-80c4-625eb9d5fbb6",
        "colab": {
          "base_uri": "https://localhost:8080/"
        }
      },
      "outputs": [
        {
          "output_type": "execute_result",
          "data": {
            "text/plain": [
              "array([[1, 2],\n",
              "       [4, 5],\n",
              "       [7, 8]])"
            ]
          },
          "metadata": {},
          "execution_count": 59
        }
      ],
      "source": [
        "A[:, :2]"
      ]
    },
    {
      "cell_type": "code",
      "execution_count": 60,
      "metadata": {
        "id": "qs7TeFETlccr",
        "outputId": "352bd3b0-23b6-4bd2-96e1-b7e88da9c45e",
        "colab": {
          "base_uri": "https://localhost:8080/"
        }
      },
      "outputs": [
        {
          "output_type": "execute_result",
          "data": {
            "text/plain": [
              "array([[1, 2],\n",
              "       [4, 5]])"
            ]
          },
          "metadata": {},
          "execution_count": 60
        }
      ],
      "source": [
        "A[:2, :2]"
      ]
    },
    {
      "cell_type": "code",
      "source": [
        "A"
      ],
      "metadata": {
        "id": "hHRT3gv0tUBN",
        "outputId": "74dd4cde-2fd7-4ecf-8cb4-34de054149ca",
        "colab": {
          "base_uri": "https://localhost:8080/"
        }
      },
      "execution_count": 61,
      "outputs": [
        {
          "output_type": "execute_result",
          "data": {
            "text/plain": [
              "array([[1, 2, 3],\n",
              "       [4, 5, 6],\n",
              "       [7, 8, 9]])"
            ]
          },
          "metadata": {},
          "execution_count": 61
        }
      ]
    },
    {
      "cell_type": "code",
      "execution_count": 62,
      "metadata": {
        "id": "-M41Yqb_lccr",
        "outputId": "bd3ae863-475b-46fb-a85a-7fa549e94553",
        "colab": {
          "base_uri": "https://localhost:8080/"
        }
      },
      "outputs": [
        {
          "output_type": "execute_result",
          "data": {
            "text/plain": [
              "array([[3],\n",
              "       [6]])"
            ]
          },
          "metadata": {},
          "execution_count": 62
        }
      ],
      "source": [
        "A[:2, 2:]"
      ]
    },
    {
      "cell_type": "code",
      "execution_count": 63,
      "metadata": {
        "id": "5JnkeIFClccr",
        "outputId": "478aae3e-1a02-475f-8713-cf8688874b61",
        "colab": {
          "base_uri": "https://localhost:8080/"
        }
      },
      "outputs": [
        {
          "output_type": "execute_result",
          "data": {
            "text/plain": [
              "array([[1, 2, 3],\n",
              "       [4, 5, 6],\n",
              "       [7, 8, 9]])"
            ]
          },
          "metadata": {},
          "execution_count": 63
        }
      ],
      "source": [
        "A"
      ]
    },
    {
      "cell_type": "code",
      "execution_count": 64,
      "metadata": {
        "id": "T8LuMe-olccr"
      },
      "outputs": [],
      "source": [
        "A[1] = np.array([10, 10, 10])"
      ]
    },
    {
      "cell_type": "code",
      "execution_count": 65,
      "metadata": {
        "id": "YmxHgHQUlccr",
        "outputId": "e65ce3ea-8b13-4fdb-aa52-ac2c5c9ec556",
        "colab": {
          "base_uri": "https://localhost:8080/"
        }
      },
      "outputs": [
        {
          "output_type": "execute_result",
          "data": {
            "text/plain": [
              "array([[ 1,  2,  3],\n",
              "       [10, 10, 10],\n",
              "       [ 7,  8,  9]])"
            ]
          },
          "metadata": {},
          "execution_count": 65
        }
      ],
      "source": [
        "A"
      ]
    },
    {
      "cell_type": "code",
      "execution_count": 66,
      "metadata": {
        "id": "UMtQoeEvlccr"
      },
      "outputs": [],
      "source": [
        "A[2] = 99"
      ]
    },
    {
      "cell_type": "code",
      "execution_count": 67,
      "metadata": {
        "id": "STXJTnrKlccr",
        "outputId": "7e86af93-9543-4519-9c71-cc4fd14f4a6b",
        "colab": {
          "base_uri": "https://localhost:8080/"
        }
      },
      "outputs": [
        {
          "output_type": "execute_result",
          "data": {
            "text/plain": [
              "array([[ 1,  2,  3],\n",
              "       [10, 10, 10],\n",
              "       [99, 99, 99]])"
            ]
          },
          "metadata": {},
          "execution_count": 67
        }
      ],
      "source": [
        "A"
      ]
    },
    {
      "cell_type": "markdown",
      "metadata": {
        "id": "7wAx844flccr"
      },
      "source": [
        "![green-divider](https://user-images.githubusercontent.com/7065401/52071924-c003ad80-2562-11e9-8297-1c6595f8a7ff.png)\n",
        "\n",
        "## Summary statistics"
      ]
    },
    {
      "cell_type": "code",
      "execution_count": 68,
      "metadata": {
        "id": "ok78iqcAlccr"
      },
      "outputs": [],
      "source": [
        "a = np.array([1, 2, 3, 4])"
      ]
    },
    {
      "cell_type": "code",
      "execution_count": 69,
      "metadata": {
        "id": "HNs7fvFIlccs",
        "outputId": "95dec163-274c-4eb6-cc0c-6c034aa7f410",
        "colab": {
          "base_uri": "https://localhost:8080/"
        }
      },
      "outputs": [
        {
          "output_type": "execute_result",
          "data": {
            "text/plain": [
              "np.int64(10)"
            ]
          },
          "metadata": {},
          "execution_count": 69
        }
      ],
      "source": [
        "a.sum()"
      ]
    },
    {
      "cell_type": "code",
      "execution_count": 70,
      "metadata": {
        "id": "JNEYK38Olccs",
        "outputId": "1a966d26-6d5d-4aaf-9d90-283c53579098",
        "colab": {
          "base_uri": "https://localhost:8080/"
        }
      },
      "outputs": [
        {
          "output_type": "execute_result",
          "data": {
            "text/plain": [
              "np.float64(2.5)"
            ]
          },
          "metadata": {},
          "execution_count": 70
        }
      ],
      "source": [
        "a.mean()"
      ]
    },
    {
      "cell_type": "code",
      "source": [
        "a.describe()"
      ],
      "metadata": {
        "id": "2RGzAk9othPt",
        "outputId": "c6f73806-27bf-469d-fac7-52b4cc405835",
        "colab": {
          "base_uri": "https://localhost:8080/",
          "height": 141
        }
      },
      "execution_count": 77,
      "outputs": [
        {
          "output_type": "error",
          "ename": "AttributeError",
          "evalue": "'numpy.ndarray' object has no attribute 'describe'",
          "traceback": [
            "\u001b[0;31m---------------------------------------------------------------------------\u001b[0m",
            "\u001b[0;31mAttributeError\u001b[0m                            Traceback (most recent call last)",
            "\u001b[0;32m<ipython-input-77-aad08ddc3c82>\u001b[0m in \u001b[0;36m<cell line: 0>\u001b[0;34m()\u001b[0m\n\u001b[0;32m----> 1\u001b[0;31m \u001b[0ma\u001b[0m\u001b[0;34m.\u001b[0m\u001b[0mdescribe\u001b[0m\u001b[0;34m(\u001b[0m\u001b[0;34m)\u001b[0m\u001b[0;34m\u001b[0m\u001b[0;34m\u001b[0m\u001b[0m\n\u001b[0m",
            "\u001b[0;31mAttributeError\u001b[0m: 'numpy.ndarray' object has no attribute 'describe'"
          ]
        }
      ]
    },
    {
      "cell_type": "code",
      "execution_count": 71,
      "metadata": {
        "id": "FyTpAagLlccs",
        "outputId": "2d85e10f-2d9b-4eaf-ba16-eaf3efd6a92c",
        "colab": {
          "base_uri": "https://localhost:8080/"
        }
      },
      "outputs": [
        {
          "output_type": "execute_result",
          "data": {
            "text/plain": [
              "np.float64(1.118033988749895)"
            ]
          },
          "metadata": {},
          "execution_count": 71
        }
      ],
      "source": [
        "a.std()"
      ]
    },
    {
      "cell_type": "code",
      "execution_count": 78,
      "metadata": {
        "id": "VHaRcfQilccs",
        "outputId": "e3a49768-8351-4c7d-dda9-a6f50e630590",
        "colab": {
          "base_uri": "https://localhost:8080/"
        }
      },
      "outputs": [
        {
          "output_type": "execute_result",
          "data": {
            "text/plain": [
              "np.float64(1.25)"
            ]
          },
          "metadata": {},
          "execution_count": 78
        }
      ],
      "source": [
        "a.var()"
      ]
    },
    {
      "cell_type": "code",
      "execution_count": 79,
      "metadata": {
        "id": "Y5H8UtSdlccs"
      },
      "outputs": [],
      "source": [
        "A = np.array([\n",
        "    [1, 2, 3],\n",
        "    [4, 5, 6],\n",
        "    [7, 8, 9]\n",
        "])"
      ]
    },
    {
      "cell_type": "code",
      "execution_count": 80,
      "metadata": {
        "id": "WiVAv1Iflccs",
        "outputId": "89501e98-2971-4328-a315-f78c5f7f4322",
        "colab": {
          "base_uri": "https://localhost:8080/"
        }
      },
      "outputs": [
        {
          "output_type": "execute_result",
          "data": {
            "text/plain": [
              "np.int64(45)"
            ]
          },
          "metadata": {},
          "execution_count": 80
        }
      ],
      "source": [
        "A.sum()"
      ]
    },
    {
      "cell_type": "code",
      "execution_count": 81,
      "metadata": {
        "id": "u7GDiLbhlccs",
        "outputId": "57c750af-423e-481b-a3b9-e35515801602",
        "colab": {
          "base_uri": "https://localhost:8080/"
        }
      },
      "outputs": [
        {
          "output_type": "execute_result",
          "data": {
            "text/plain": [
              "np.float64(5.0)"
            ]
          },
          "metadata": {},
          "execution_count": 81
        }
      ],
      "source": [
        "A.mean()"
      ]
    },
    {
      "cell_type": "code",
      "execution_count": 82,
      "metadata": {
        "id": "tfrhqECYlccs",
        "outputId": "7b741338-3d3e-4459-9eb4-02e653dbca6d",
        "colab": {
          "base_uri": "https://localhost:8080/"
        }
      },
      "outputs": [
        {
          "output_type": "execute_result",
          "data": {
            "text/plain": [
              "np.float64(2.581988897471611)"
            ]
          },
          "metadata": {},
          "execution_count": 82
        }
      ],
      "source": [
        "A.std()"
      ]
    },
    {
      "cell_type": "markdown",
      "source": [
        "axis是以列做和运算，不写，默认总数"
      ],
      "metadata": {
        "id": "5WwQ4bKau_hn"
      }
    },
    {
      "cell_type": "code",
      "execution_count": 83,
      "metadata": {
        "id": "nKp442aXlccs",
        "outputId": "10a0490c-2881-4050-aeba-afe28a120785",
        "colab": {
          "base_uri": "https://localhost:8080/"
        }
      },
      "outputs": [
        {
          "output_type": "execute_result",
          "data": {
            "text/plain": [
              "array([12, 15, 18])"
            ]
          },
          "metadata": {},
          "execution_count": 83
        }
      ],
      "source": [
        "A.sum(axis=0)"
      ]
    },
    {
      "cell_type": "markdown",
      "source": [
        "axis=1,以行做运算"
      ],
      "metadata": {
        "id": "JQ0nlLjrvJmm"
      }
    },
    {
      "cell_type": "code",
      "execution_count": 85,
      "metadata": {
        "id": "aaPKQzQxlccs",
        "outputId": "a8f17636-40c0-4bc6-a006-1d9b4fee7d27",
        "colab": {
          "base_uri": "https://localhost:8080/"
        }
      },
      "outputs": [
        {
          "output_type": "execute_result",
          "data": {
            "text/plain": [
              "array([ 6, 15, 24])"
            ]
          },
          "metadata": {},
          "execution_count": 85
        }
      ],
      "source": [
        "A.sum(axis=1)"
      ]
    },
    {
      "cell_type": "code",
      "execution_count": 86,
      "metadata": {
        "scrolled": true,
        "id": "8SCfL7nVlcct",
        "outputId": "0189dae0-8afa-4219-a106-4862e058d155",
        "colab": {
          "base_uri": "https://localhost:8080/"
        }
      },
      "outputs": [
        {
          "output_type": "execute_result",
          "data": {
            "text/plain": [
              "array([4., 5., 6.])"
            ]
          },
          "metadata": {},
          "execution_count": 86
        }
      ],
      "source": [
        "A.mean(axis=0)"
      ]
    },
    {
      "cell_type": "code",
      "source": [
        "A"
      ],
      "metadata": {
        "id": "-v-HaQ8evR5-",
        "outputId": "d971ea34-42e8-411d-8d9c-fb66bc598cd4",
        "colab": {
          "base_uri": "https://localhost:8080/"
        }
      },
      "execution_count": 87,
      "outputs": [
        {
          "output_type": "execute_result",
          "data": {
            "text/plain": [
              "array([[1, 2, 3],\n",
              "       [4, 5, 6],\n",
              "       [7, 8, 9]])"
            ]
          },
          "metadata": {},
          "execution_count": 87
        }
      ]
    },
    {
      "cell_type": "code",
      "execution_count": 88,
      "metadata": {
        "id": "CYMtXklylcct",
        "outputId": "6800db15-3f29-4189-e097-40c0874fd950",
        "colab": {
          "base_uri": "https://localhost:8080/"
        }
      },
      "outputs": [
        {
          "output_type": "execute_result",
          "data": {
            "text/plain": [
              "array([2., 5., 8.])"
            ]
          },
          "metadata": {},
          "execution_count": 88
        }
      ],
      "source": [
        "A.mean(axis=1)"
      ]
    },
    {
      "cell_type": "code",
      "execution_count": 89,
      "metadata": {
        "id": "ZhzKCHcJlcct",
        "outputId": "6871c889-88c7-4e1d-9883-2e2b3866ee7c",
        "colab": {
          "base_uri": "https://localhost:8080/"
        }
      },
      "outputs": [
        {
          "output_type": "execute_result",
          "data": {
            "text/plain": [
              "array([2.44948974, 2.44948974, 2.44948974])"
            ]
          },
          "metadata": {},
          "execution_count": 89
        }
      ],
      "source": [
        "A.std(axis=0)"
      ]
    },
    {
      "cell_type": "code",
      "execution_count": 90,
      "metadata": {
        "scrolled": true,
        "id": "sXpdHakTlcct",
        "outputId": "22e6c6b6-61d3-46f0-bb4e-9c4c6768d7f0",
        "colab": {
          "base_uri": "https://localhost:8080/"
        }
      },
      "outputs": [
        {
          "output_type": "execute_result",
          "data": {
            "text/plain": [
              "array([0.81649658, 0.81649658, 0.81649658])"
            ]
          },
          "metadata": {},
          "execution_count": 90
        }
      ],
      "source": [
        "A.std(axis=1)"
      ]
    },
    {
      "cell_type": "code",
      "source": [
        "A.data"
      ],
      "metadata": {
        "id": "5YzyCzwHxL_w",
        "outputId": "00688de9-15f9-4b7b-ba65-da542d757692",
        "colab": {
          "base_uri": "https://localhost:8080/"
        }
      },
      "execution_count": 92,
      "outputs": [
        {
          "output_type": "execute_result",
          "data": {
            "text/plain": [
              "<memory at 0x7a6fe1d01490>"
            ]
          },
          "metadata": {},
          "execution_count": 92
        }
      ]
    },
    {
      "cell_type": "code",
      "source": [
        "A.itemsize"
      ],
      "metadata": {
        "id": "7t4KVOTDxeZQ",
        "outputId": "38264e9c-c7ca-408f-fc90-813f2ad221f0",
        "colab": {
          "base_uri": "https://localhost:8080/"
        }
      },
      "execution_count": 93,
      "outputs": [
        {
          "output_type": "execute_result",
          "data": {
            "text/plain": [
              "8"
            ]
          },
          "metadata": {},
          "execution_count": 93
        }
      ]
    },
    {
      "cell_type": "markdown",
      "metadata": {
        "id": "6ALdkjNjlcct"
      },
      "source": [
        "And [many more](https://docs.scipy.org/doc/numpy-1.13.0/reference/arrays.ndarray.html#array-methods)..."
      ]
    },
    {
      "cell_type": "code",
      "source": [
        "A.flags"
      ],
      "metadata": {
        "id": "Vfskd0Nbw9tQ",
        "outputId": "db43e3c1-7da4-4c39-f553-2087a7b9df20",
        "colab": {
          "base_uri": "https://localhost:8080/"
        }
      },
      "execution_count": 91,
      "outputs": [
        {
          "output_type": "execute_result",
          "data": {
            "text/plain": [
              "  C_CONTIGUOUS : True\n",
              "  F_CONTIGUOUS : False\n",
              "  OWNDATA : True\n",
              "  WRITEABLE : True\n",
              "  ALIGNED : True\n",
              "  WRITEBACKIFCOPY : False"
            ]
          },
          "metadata": {},
          "execution_count": 91
        }
      ]
    },
    {
      "cell_type": "markdown",
      "metadata": {
        "id": "HM1iM6-wlcct"
      },
      "source": [
        "![green-divider](https://user-images.githubusercontent.com/7065401/52071924-c003ad80-2562-11e9-8297-1c6595f8a7ff.png)\n",
        "\n",
        "## Broadcasting and Vectorized operations"
      ]
    },
    {
      "cell_type": "code",
      "execution_count": 94,
      "metadata": {
        "id": "3Ogt6Lvulcct"
      },
      "outputs": [],
      "source": [
        "a = np.arange(4)"
      ]
    },
    {
      "cell_type": "code",
      "execution_count": 95,
      "metadata": {
        "id": "CmiKoSSylcct",
        "outputId": "b6ddf3fb-5eb8-47ee-9ccd-a71c701699f6",
        "colab": {
          "base_uri": "https://localhost:8080/"
        }
      },
      "outputs": [
        {
          "output_type": "execute_result",
          "data": {
            "text/plain": [
              "array([0, 1, 2, 3])"
            ]
          },
          "metadata": {},
          "execution_count": 95
        }
      ],
      "source": [
        "a"
      ]
    },
    {
      "cell_type": "code",
      "execution_count": 96,
      "metadata": {
        "id": "uayUmgNFlcct",
        "outputId": "dfc43b7f-8f68-4b4c-ed20-f8cef57ffd4d",
        "colab": {
          "base_uri": "https://localhost:8080/"
        }
      },
      "outputs": [
        {
          "output_type": "execute_result",
          "data": {
            "text/plain": [
              "array([10, 11, 12, 13])"
            ]
          },
          "metadata": {},
          "execution_count": 96
        }
      ],
      "source": [
        "a + 10"
      ]
    },
    {
      "cell_type": "code",
      "execution_count": 97,
      "metadata": {
        "id": "lsA7VuGqlcct",
        "outputId": "dc0da8bd-0691-4d3c-c550-24d94fb33694",
        "colab": {
          "base_uri": "https://localhost:8080/"
        }
      },
      "outputs": [
        {
          "output_type": "execute_result",
          "data": {
            "text/plain": [
              "array([ 0, 10, 20, 30])"
            ]
          },
          "metadata": {},
          "execution_count": 97
        }
      ],
      "source": [
        "a * 10"
      ]
    },
    {
      "cell_type": "markdown",
      "source": [
        "不会改变原数组"
      ],
      "metadata": {
        "id": "196KxuETyeDa"
      }
    },
    {
      "cell_type": "code",
      "execution_count": 98,
      "metadata": {
        "id": "PTyYUbCGlccu",
        "outputId": "da845895-c76f-49f5-8b5e-6ace039a97f9",
        "colab": {
          "base_uri": "https://localhost:8080/"
        }
      },
      "outputs": [
        {
          "output_type": "execute_result",
          "data": {
            "text/plain": [
              "array([0, 1, 2, 3])"
            ]
          },
          "metadata": {},
          "execution_count": 98
        }
      ],
      "source": [
        "a"
      ]
    },
    {
      "cell_type": "markdown",
      "source": [
        "进行了赋值操作，所以改变"
      ],
      "metadata": {
        "id": "A7zGvslLyjKa"
      }
    },
    {
      "cell_type": "code",
      "execution_count": 99,
      "metadata": {
        "id": "TOrscAHRlccu"
      },
      "outputs": [],
      "source": [
        "a += 100"
      ]
    },
    {
      "cell_type": "code",
      "execution_count": 100,
      "metadata": {
        "id": "4XifhF6Ulccu",
        "outputId": "3bfa4306-e6c2-41c7-c9ed-c401471b507b",
        "colab": {
          "base_uri": "https://localhost:8080/"
        }
      },
      "outputs": [
        {
          "output_type": "execute_result",
          "data": {
            "text/plain": [
              "array([100, 101, 102, 103])"
            ]
          },
          "metadata": {},
          "execution_count": 100
        }
      ],
      "source": [
        "a"
      ]
    },
    {
      "cell_type": "code",
      "execution_count": 101,
      "metadata": {
        "id": "hIDgNGtIlccu"
      },
      "outputs": [],
      "source": [
        "l = [0, 1, 2, 3]"
      ]
    },
    {
      "cell_type": "code",
      "execution_count": 102,
      "metadata": {
        "id": "RoKi6Q-1lccu",
        "outputId": "c8e6f6cb-40ef-487e-cb3f-b90969d20787",
        "colab": {
          "base_uri": "https://localhost:8080/"
        }
      },
      "outputs": [
        {
          "output_type": "execute_result",
          "data": {
            "text/plain": [
              "[0, 10, 20, 30]"
            ]
          },
          "metadata": {},
          "execution_count": 102
        }
      ],
      "source": [
        "[i * 10 for i in l]"
      ]
    },
    {
      "cell_type": "markdown",
      "source": [
        "没有改变l值"
      ],
      "metadata": {
        "id": "M4taOe2lzhrk"
      }
    },
    {
      "cell_type": "code",
      "source": [
        "l"
      ],
      "metadata": {
        "id": "sBENnEpmype6",
        "outputId": "7f259e42-2561-460f-873d-202cb73b349c",
        "colab": {
          "base_uri": "https://localhost:8080/"
        }
      },
      "execution_count": 104,
      "outputs": [
        {
          "output_type": "execute_result",
          "data": {
            "text/plain": [
              "[0, 1, 2, 3]"
            ]
          },
          "metadata": {},
          "execution_count": 104
        }
      ]
    },
    {
      "cell_type": "code",
      "execution_count": 105,
      "metadata": {
        "id": "Dq0_d8F2lccu"
      },
      "outputs": [],
      "source": [
        "a = np.arange(4)"
      ]
    },
    {
      "cell_type": "code",
      "execution_count": 106,
      "metadata": {
        "id": "XV_XOYvnlccu",
        "outputId": "925dcd33-c814-4ea0-94ee-419a30e19ae5",
        "colab": {
          "base_uri": "https://localhost:8080/"
        }
      },
      "outputs": [
        {
          "output_type": "execute_result",
          "data": {
            "text/plain": [
              "array([0, 1, 2, 3])"
            ]
          },
          "metadata": {},
          "execution_count": 106
        }
      ],
      "source": [
        "a"
      ]
    },
    {
      "cell_type": "code",
      "execution_count": 110,
      "metadata": {
        "id": "_kYS_RhHlccu"
      },
      "outputs": [],
      "source": [
        "b = np.array([10, 10, 10, 10,1])"
      ]
    },
    {
      "cell_type": "code",
      "source": [
        "c = np.array([10, 10, 10, 10])"
      ],
      "metadata": {
        "id": "qVTeO4tOzvKD"
      },
      "execution_count": 113,
      "outputs": []
    },
    {
      "cell_type": "code",
      "source": [
        "c"
      ],
      "metadata": {
        "id": "IG06LrrCzxxK",
        "outputId": "d4e1a09e-28f2-4f94-bdc8-52abfa7fb1a6",
        "colab": {
          "base_uri": "https://localhost:8080/"
        }
      },
      "execution_count": 114,
      "outputs": [
        {
          "output_type": "execute_result",
          "data": {
            "text/plain": [
              "array([10, 10, 10, 10])"
            ]
          },
          "metadata": {},
          "execution_count": 114
        }
      ]
    },
    {
      "cell_type": "code",
      "source": [
        "a + c"
      ],
      "metadata": {
        "id": "c-KrRMlazy_i",
        "outputId": "7c6c8d44-95ef-4344-b984-fcd0b4fc1272",
        "colab": {
          "base_uri": "https://localhost:8080/"
        }
      },
      "execution_count": 115,
      "outputs": [
        {
          "output_type": "execute_result",
          "data": {
            "text/plain": [
              "array([10, 11, 12, 13])"
            ]
          },
          "metadata": {},
          "execution_count": 115
        }
      ]
    },
    {
      "cell_type": "code",
      "execution_count": 111,
      "metadata": {
        "id": "P71zi9wDlccu",
        "outputId": "5f9ae817-0706-4181-ad38-f1e91e265bfc",
        "colab": {
          "base_uri": "https://localhost:8080/"
        }
      },
      "outputs": [
        {
          "output_type": "execute_result",
          "data": {
            "text/plain": [
              "array([10, 10, 10, 10,  1])"
            ]
          },
          "metadata": {},
          "execution_count": 111
        }
      ],
      "source": [
        "b"
      ]
    },
    {
      "cell_type": "code",
      "execution_count": 112,
      "metadata": {
        "id": "DrR_wUE4lccu",
        "outputId": "5285714a-e3a2-44f0-a908-b7e25a541a59",
        "colab": {
          "base_uri": "https://localhost:8080/",
          "height": 141
        }
      },
      "outputs": [
        {
          "output_type": "error",
          "ename": "ValueError",
          "evalue": "operands could not be broadcast together with shapes (4,) (5,) ",
          "traceback": [
            "\u001b[0;31m---------------------------------------------------------------------------\u001b[0m",
            "\u001b[0;31mValueError\u001b[0m                                Traceback (most recent call last)",
            "\u001b[0;32m<ipython-input-112-bd58363a63fc>\u001b[0m in \u001b[0;36m<cell line: 0>\u001b[0;34m()\u001b[0m\n\u001b[0;32m----> 1\u001b[0;31m \u001b[0ma\u001b[0m \u001b[0;34m+\u001b[0m \u001b[0mb\u001b[0m\u001b[0;34m\u001b[0m\u001b[0;34m\u001b[0m\u001b[0m\n\u001b[0m",
            "\u001b[0;31mValueError\u001b[0m: operands could not be broadcast together with shapes (4,) (5,) "
          ]
        }
      ],
      "source": [
        "a + b"
      ]
    },
    {
      "cell_type": "markdown",
      "source": [
        "相应的数据进行相乘"
      ],
      "metadata": {
        "id": "cgRG-egAz53z"
      }
    },
    {
      "cell_type": "code",
      "execution_count": 117,
      "metadata": {
        "id": "Ewj3Nybjlccu",
        "outputId": "e8ed2c0a-60a0-47b9-9fc1-fc198aba2518",
        "colab": {
          "base_uri": "https://localhost:8080/"
        }
      },
      "outputs": [
        {
          "output_type": "execute_result",
          "data": {
            "text/plain": [
              "array([ 0, 10, 20, 30])"
            ]
          },
          "metadata": {},
          "execution_count": 117
        }
      ],
      "source": [
        "a * c"
      ]
    },
    {
      "cell_type": "markdown",
      "metadata": {
        "id": "k4AMjlBGlccv"
      },
      "source": [
        "![green-divider](https://user-images.githubusercontent.com/7065401/52071924-c003ad80-2562-11e9-8297-1c6595f8a7ff.png)\n",
        "\n",
        "## Boolean arrays\n",
        "_(Also called masks)_"
      ]
    },
    {
      "cell_type": "code",
      "execution_count": 118,
      "metadata": {
        "id": "m3lj3Tbylccv"
      },
      "outputs": [],
      "source": [
        "a = np.arange(4)"
      ]
    },
    {
      "cell_type": "code",
      "execution_count": 119,
      "metadata": {
        "id": "yCTtJiA9lccv",
        "outputId": "e4efac61-8986-46d5-da16-7a9d355769b1",
        "colab": {
          "base_uri": "https://localhost:8080/"
        }
      },
      "outputs": [
        {
          "output_type": "execute_result",
          "data": {
            "text/plain": [
              "array([0, 1, 2, 3])"
            ]
          },
          "metadata": {},
          "execution_count": 119
        }
      ],
      "source": [
        "a"
      ]
    },
    {
      "cell_type": "code",
      "execution_count": 120,
      "metadata": {
        "id": "t-IHXG5Rlccv",
        "outputId": "d8e5ba1a-f7fd-488a-a29f-f7daac10400d",
        "colab": {
          "base_uri": "https://localhost:8080/"
        }
      },
      "outputs": [
        {
          "output_type": "execute_result",
          "data": {
            "text/plain": [
              "(np.int64(0), np.int64(3))"
            ]
          },
          "metadata": {},
          "execution_count": 120
        }
      ],
      "source": [
        "a[0], a[-1]"
      ]
    },
    {
      "cell_type": "code",
      "execution_count": 121,
      "metadata": {
        "id": "qZCg9odflccv",
        "outputId": "5b7461cb-856b-4876-ba62-8521e5d97e49",
        "colab": {
          "base_uri": "https://localhost:8080/"
        }
      },
      "outputs": [
        {
          "output_type": "execute_result",
          "data": {
            "text/plain": [
              "array([0, 3])"
            ]
          },
          "metadata": {},
          "execution_count": 121
        }
      ],
      "source": [
        "a[[0, -1]]"
      ]
    },
    {
      "cell_type": "code",
      "execution_count": 122,
      "metadata": {
        "id": "bo7xCcJklccv",
        "outputId": "470aec82-4c06-4927-9816-cc3bd21868b2",
        "colab": {
          "base_uri": "https://localhost:8080/"
        }
      },
      "outputs": [
        {
          "output_type": "execute_result",
          "data": {
            "text/plain": [
              "array([0, 3])"
            ]
          },
          "metadata": {},
          "execution_count": 122
        }
      ],
      "source": [
        "a[[True, False, False, True]]"
      ]
    },
    {
      "cell_type": "code",
      "execution_count": 123,
      "metadata": {
        "id": "_42POVT-lccv",
        "outputId": "12f2c128-3236-47f7-d638-01dc3131b2e4",
        "colab": {
          "base_uri": "https://localhost:8080/"
        }
      },
      "outputs": [
        {
          "output_type": "execute_result",
          "data": {
            "text/plain": [
              "array([0, 1, 2, 3])"
            ]
          },
          "metadata": {},
          "execution_count": 123
        }
      ],
      "source": [
        "a"
      ]
    },
    {
      "cell_type": "markdown",
      "source": [
        "默认返回一个布尔数组"
      ],
      "metadata": {
        "id": "W1wSq3c70ZmT"
      }
    },
    {
      "cell_type": "code",
      "execution_count": 124,
      "metadata": {
        "id": "tsah6loUlccv",
        "outputId": "296e29b5-c411-49ba-b207-80573297c9b3",
        "colab": {
          "base_uri": "https://localhost:8080/"
        }
      },
      "outputs": [
        {
          "output_type": "execute_result",
          "data": {
            "text/plain": [
              "array([False, False,  True,  True])"
            ]
          },
          "metadata": {},
          "execution_count": 124
        }
      ],
      "source": [
        "a >= 2"
      ]
    },
    {
      "cell_type": "code",
      "execution_count": 125,
      "metadata": {
        "id": "v3RsM8FRlccv",
        "outputId": "d6ae95f5-4d84-4671-c691-005375440299",
        "colab": {
          "base_uri": "https://localhost:8080/"
        }
      },
      "outputs": [
        {
          "output_type": "execute_result",
          "data": {
            "text/plain": [
              "array([2, 3])"
            ]
          },
          "metadata": {},
          "execution_count": 125
        }
      ],
      "source": [
        "a[a >= 2]"
      ]
    },
    {
      "cell_type": "code",
      "execution_count": 126,
      "metadata": {
        "id": "gU0PTIqLlccv",
        "outputId": "428f2ec6-2d47-4117-8f27-64f156064f5d",
        "colab": {
          "base_uri": "https://localhost:8080/"
        }
      },
      "outputs": [
        {
          "output_type": "execute_result",
          "data": {
            "text/plain": [
              "np.float64(1.5)"
            ]
          },
          "metadata": {},
          "execution_count": 126
        }
      ],
      "source": [
        "a.mean()"
      ]
    },
    {
      "cell_type": "code",
      "execution_count": 127,
      "metadata": {
        "scrolled": true,
        "id": "m8jU7jL9lccw",
        "outputId": "f516f219-7f5e-4641-ddf3-7aa42cbc18a5",
        "colab": {
          "base_uri": "https://localhost:8080/"
        }
      },
      "outputs": [
        {
          "output_type": "execute_result",
          "data": {
            "text/plain": [
              "array([2, 3])"
            ]
          },
          "metadata": {},
          "execution_count": 127
        }
      ],
      "source": [
        "a[a > a.mean()]"
      ]
    },
    {
      "cell_type": "markdown",
      "source": [
        "~非"
      ],
      "metadata": {
        "id": "RAOWnba70j_D"
      }
    },
    {
      "cell_type": "code",
      "execution_count": 128,
      "metadata": {
        "id": "SmS6q1mqlccw",
        "outputId": "0e5336c0-6158-42f1-bcd2-d1f2cdb3fc55",
        "colab": {
          "base_uri": "https://localhost:8080/"
        }
      },
      "outputs": [
        {
          "output_type": "execute_result",
          "data": {
            "text/plain": [
              "array([0, 1])"
            ]
          },
          "metadata": {},
          "execution_count": 128
        }
      ],
      "source": [
        "a[~(a > a.mean())]"
      ]
    },
    {
      "cell_type": "code",
      "execution_count": 129,
      "metadata": {
        "id": "7u9oPPq4lccw",
        "outputId": "c0730e4d-ff04-4760-b123-7c0d2dd7e420",
        "colab": {
          "base_uri": "https://localhost:8080/"
        }
      },
      "outputs": [
        {
          "output_type": "execute_result",
          "data": {
            "text/plain": [
              "array([0, 1])"
            ]
          },
          "metadata": {},
          "execution_count": 129
        }
      ],
      "source": [
        "a[(a == 0) | (a == 1)]"
      ]
    },
    {
      "cell_type": "code",
      "execution_count": 130,
      "metadata": {
        "id": "SQM725EGlccw",
        "outputId": "6b44ea3c-0a17-42de-b361-56c9112408f2",
        "colab": {
          "base_uri": "https://localhost:8080/"
        }
      },
      "outputs": [
        {
          "output_type": "execute_result",
          "data": {
            "text/plain": [
              "array([0, 2])"
            ]
          },
          "metadata": {},
          "execution_count": 130
        }
      ],
      "source": [
        "a[(a <= 2) & (a % 2 == 0)]"
      ]
    },
    {
      "cell_type": "code",
      "execution_count": 131,
      "metadata": {
        "id": "ybN2reYMlccw"
      },
      "outputs": [],
      "source": [
        "A = np.random.randint(100, size=(3, 3))"
      ]
    },
    {
      "cell_type": "code",
      "execution_count": 132,
      "metadata": {
        "id": "bz1dM4Tplccw",
        "outputId": "dc7da1df-c1b9-4e78-c054-d6d063571fa2",
        "colab": {
          "base_uri": "https://localhost:8080/"
        }
      },
      "outputs": [
        {
          "output_type": "execute_result",
          "data": {
            "text/plain": [
              "array([[83, 73, 74],\n",
              "       [ 5, 91, 83],\n",
              "       [80, 92, 51]])"
            ]
          },
          "metadata": {},
          "execution_count": 132
        }
      ],
      "source": [
        "A"
      ]
    },
    {
      "cell_type": "markdown",
      "source": [
        "利用布尔进行取值"
      ],
      "metadata": {
        "id": "Aq1XoS3y01X8"
      }
    },
    {
      "cell_type": "code",
      "execution_count": 133,
      "metadata": {
        "id": "yR0orou4lccw",
        "outputId": "4256d9c8-b44a-4748-8bcb-deca3f875014",
        "colab": {
          "base_uri": "https://localhost:8080/"
        }
      },
      "outputs": [
        {
          "output_type": "execute_result",
          "data": {
            "text/plain": [
              "array([83, 74, 91, 80, 51])"
            ]
          },
          "metadata": {},
          "execution_count": 133
        }
      ],
      "source": [
        "A[np.array([\n",
        "    [True, False, True],\n",
        "    [False, True, False],\n",
        "    [True, False, True]\n",
        "])]"
      ]
    },
    {
      "cell_type": "code",
      "execution_count": 134,
      "metadata": {
        "id": "nL4FLYNglccw",
        "outputId": "9d7a2974-07c7-4f9c-8427-0f341342dc2e",
        "colab": {
          "base_uri": "https://localhost:8080/"
        }
      },
      "outputs": [
        {
          "output_type": "execute_result",
          "data": {
            "text/plain": [
              "array([[ True,  True,  True],\n",
              "       [False,  True,  True],\n",
              "       [ True,  True,  True]])"
            ]
          },
          "metadata": {},
          "execution_count": 134
        }
      ],
      "source": [
        "A > 30"
      ]
    },
    {
      "cell_type": "code",
      "execution_count": 135,
      "metadata": {
        "id": "vbGu8V_ulccw",
        "outputId": "a4907b1a-7a96-4661-ff2b-bcff210b5ea9",
        "colab": {
          "base_uri": "https://localhost:8080/"
        }
      },
      "outputs": [
        {
          "output_type": "execute_result",
          "data": {
            "text/plain": [
              "array([83, 73, 74, 91, 83, 80, 92, 51])"
            ]
          },
          "metadata": {},
          "execution_count": 135
        }
      ],
      "source": [
        "A[A > 30]"
      ]
    },
    {
      "cell_type": "markdown",
      "metadata": {
        "id": "WxeikwAulccw"
      },
      "source": [
        "![green-divider](https://user-images.githubusercontent.com/7065401/52071924-c003ad80-2562-11e9-8297-1c6595f8a7ff.png)\n",
        "\n",
        "## Linear Algebra"
      ]
    },
    {
      "cell_type": "code",
      "execution_count": 136,
      "metadata": {
        "id": "JzIkg8yZlccx"
      },
      "outputs": [],
      "source": [
        "A = np.array([\n",
        "    [1, 2, 3],\n",
        "    [4, 5, 6],\n",
        "    [7, 8, 9]\n",
        "])"
      ]
    },
    {
      "cell_type": "code",
      "execution_count": 137,
      "metadata": {
        "id": "vX4qD2fNlccx"
      },
      "outputs": [],
      "source": [
        "B = np.array([\n",
        "    [6, 5],\n",
        "    [4, 3],\n",
        "    [2, 1]\n",
        "])"
      ]
    },
    {
      "cell_type": "markdown",
      "source": [
        "A决定行数，B决定列数，线性代数的相关知识，每行的数据与每列的数据相乘在相加"
      ],
      "metadata": {
        "id": "XHbcX9l-2Yl9"
      }
    },
    {
      "cell_type": "code",
      "execution_count": 138,
      "metadata": {
        "id": "Q_7rRlvblccx",
        "outputId": "2b596867-e2ac-4bec-c19d-94402e25ef4d",
        "colab": {
          "base_uri": "https://localhost:8080/"
        }
      },
      "outputs": [
        {
          "output_type": "execute_result",
          "data": {
            "text/plain": [
              "array([[20, 14],\n",
              "       [56, 41],\n",
              "       [92, 68]])"
            ]
          },
          "metadata": {},
          "execution_count": 138
        }
      ],
      "source": [
        "A.dot(B)"
      ]
    },
    {
      "cell_type": "code",
      "execution_count": 139,
      "metadata": {
        "id": "gD9gIzj9lccx",
        "outputId": "66b2c0f8-6174-4bb1-fadf-5e32b48ec0fa",
        "colab": {
          "base_uri": "https://localhost:8080/"
        }
      },
      "outputs": [
        {
          "output_type": "execute_result",
          "data": {
            "text/plain": [
              "array([[20, 14],\n",
              "       [56, 41],\n",
              "       [92, 68]])"
            ]
          },
          "metadata": {},
          "execution_count": 139
        }
      ],
      "source": [
        "A @ B"
      ]
    },
    {
      "cell_type": "markdown",
      "source": [
        "矩阵的转秩，行与列的数据进行交换"
      ],
      "metadata": {
        "id": "qIRSvWDF215u"
      }
    },
    {
      "cell_type": "code",
      "execution_count": 140,
      "metadata": {
        "id": "K40rErQdlccx",
        "outputId": "91a02291-1ae3-4a3a-d405-d4ee26b6de63",
        "colab": {
          "base_uri": "https://localhost:8080/"
        }
      },
      "outputs": [
        {
          "output_type": "execute_result",
          "data": {
            "text/plain": [
              "array([[6, 4, 2],\n",
              "       [5, 3, 1]])"
            ]
          },
          "metadata": {},
          "execution_count": 140
        }
      ],
      "source": [
        "B.T"
      ]
    },
    {
      "cell_type": "code",
      "execution_count": 141,
      "metadata": {
        "id": "CbaAaDQClccx",
        "outputId": "7c23b8a7-4836-46fa-b1bb-fc12401cd616",
        "colab": {
          "base_uri": "https://localhost:8080/"
        }
      },
      "outputs": [
        {
          "output_type": "execute_result",
          "data": {
            "text/plain": [
              "array([[1, 2, 3],\n",
              "       [4, 5, 6],\n",
              "       [7, 8, 9]])"
            ]
          },
          "metadata": {},
          "execution_count": 141
        }
      ],
      "source": [
        "A"
      ]
    },
    {
      "cell_type": "code",
      "execution_count": 142,
      "metadata": {
        "scrolled": true,
        "id": "_ljlTbeclccx",
        "outputId": "f09a86bc-b53d-4489-88a3-42c97ede9e90",
        "colab": {
          "base_uri": "https://localhost:8080/"
        }
      },
      "outputs": [
        {
          "output_type": "execute_result",
          "data": {
            "text/plain": [
              "array([[36, 48, 60],\n",
              "       [24, 33, 42]])"
            ]
          },
          "metadata": {},
          "execution_count": 142
        }
      ],
      "source": [
        "B.T @ A"
      ]
    },
    {
      "cell_type": "markdown",
      "metadata": {
        "id": "xU88iV4slccx"
      },
      "source": [
        "![green-divider](https://user-images.githubusercontent.com/7065401/52071924-c003ad80-2562-11e9-8297-1c6595f8a7ff.png)\n",
        "\n",
        "## Size of objects in Memory"
      ]
    },
    {
      "cell_type": "markdown",
      "metadata": {
        "id": "vAMNEg8ilccx"
      },
      "source": [
        "### Int, floats"
      ]
    },
    {
      "cell_type": "markdown",
      "source": [
        "基础的整型大小"
      ],
      "metadata": {
        "id": "_wyWFUrh6lah"
      }
    },
    {
      "cell_type": "code",
      "execution_count": 143,
      "metadata": {
        "id": "_weYVlKFlccx",
        "outputId": "9e72c7c2-55ae-47e9-da24-ca803de20312",
        "colab": {
          "base_uri": "https://localhost:8080/"
        }
      },
      "outputs": [
        {
          "output_type": "execute_result",
          "data": {
            "text/plain": [
              "28"
            ]
          },
          "metadata": {},
          "execution_count": 143
        }
      ],
      "source": [
        "# An integer in Python is > 24bytes\n",
        "sys.getsizeof(1)"
      ]
    },
    {
      "cell_type": "code",
      "source": [
        "sys.getsizeof('c')"
      ],
      "metadata": {
        "id": "sDzMR9vP3MuO",
        "outputId": "1d6d8249-30c7-49b9-9336-9b8de5389c66",
        "colab": {
          "base_uri": "https://localhost:8080/"
        }
      },
      "execution_count": 144,
      "outputs": [
        {
          "output_type": "execute_result",
          "data": {
            "text/plain": [
              "50"
            ]
          },
          "metadata": {},
          "execution_count": 144
        }
      ]
    },
    {
      "cell_type": "code",
      "source": [
        "sys.getsizeof('3')"
      ],
      "metadata": {
        "id": "8ibtNiKx3UWd",
        "outputId": "1667588b-55d2-4a25-e90e-a42bff52d5be",
        "colab": {
          "base_uri": "https://localhost:8080/"
        }
      },
      "execution_count": 145,
      "outputs": [
        {
          "output_type": "execute_result",
          "data": {
            "text/plain": [
              "50"
            ]
          },
          "metadata": {},
          "execution_count": 145
        }
      ]
    },
    {
      "cell_type": "markdown",
      "source": [
        "基础字符大小为49"
      ],
      "metadata": {
        "id": "NbhUu0Ol5gG4"
      }
    },
    {
      "cell_type": "code",
      "source": [
        "sys.getsizeof('')"
      ],
      "metadata": {
        "id": "aWZzf7pV5eSB",
        "outputId": "839c1fc3-49bf-4fcd-b04c-85c0dfd05c92",
        "colab": {
          "base_uri": "https://localhost:8080/"
        }
      },
      "execution_count": 159,
      "outputs": [
        {
          "output_type": "execute_result",
          "data": {
            "text/plain": [
              "49"
            ]
          },
          "metadata": {},
          "execution_count": 159
        }
      ]
    },
    {
      "cell_type": "code",
      "source": [
        "sys.getsizeof('abc')"
      ],
      "metadata": {
        "id": "0lRaf6_k3WsN",
        "outputId": "138f72fe-ce69-4d30-d1e1-ad7d33d74ff5",
        "colab": {
          "base_uri": "https://localhost:8080/"
        }
      },
      "execution_count": 146,
      "outputs": [
        {
          "output_type": "execute_result",
          "data": {
            "text/plain": [
              "52"
            ]
          },
          "metadata": {},
          "execution_count": 146
        }
      ]
    },
    {
      "cell_type": "code",
      "source": [
        "sys.getsizeof(123)"
      ],
      "metadata": {
        "id": "kxSRXjP93aOt",
        "outputId": "7f02d31b-9e25-4d68-d6a7-df4a3c1d9401",
        "colab": {
          "base_uri": "https://localhost:8080/"
        }
      },
      "execution_count": 147,
      "outputs": [
        {
          "output_type": "execute_result",
          "data": {
            "text/plain": [
              "28"
            ]
          },
          "metadata": {},
          "execution_count": 147
        }
      ]
    },
    {
      "cell_type": "markdown",
      "source": [
        "基础的浮点数大小"
      ],
      "metadata": {
        "id": "4MR4cc6S6ucx"
      }
    },
    {
      "cell_type": "code",
      "source": [
        "sys.getsizeof(1.0)"
      ],
      "metadata": {
        "id": "V94n9Nlk5UH3",
        "outputId": "c7d5c30b-626a-472c-bc85-5030dcdc8450",
        "colab": {
          "base_uri": "https://localhost:8080/"
        }
      },
      "execution_count": 158,
      "outputs": [
        {
          "output_type": "execute_result",
          "data": {
            "text/plain": [
              "24"
            ]
          },
          "metadata": {},
          "execution_count": 158
        }
      ]
    },
    {
      "cell_type": "code",
      "source": [
        "sys.getsizeof(1.0000000000000000000000000)"
      ],
      "metadata": {
        "id": "3Ka1bz956x9A",
        "outputId": "84848ecf-5be3-4c06-ac1b-fa703891279d",
        "colab": {
          "base_uri": "https://localhost:8080/"
        }
      },
      "execution_count": 162,
      "outputs": [
        {
          "output_type": "execute_result",
          "data": {
            "text/plain": [
              "24"
            ]
          },
          "metadata": {},
          "execution_count": 162
        }
      ]
    },
    {
      "cell_type": "code",
      "execution_count": 148,
      "metadata": {
        "scrolled": true,
        "id": "FlL3WixZlccy",
        "outputId": "0f44fd4e-5a5a-4793-e34f-46a37ef5c3da",
        "colab": {
          "base_uri": "https://localhost:8080/"
        }
      },
      "outputs": [
        {
          "output_type": "execute_result",
          "data": {
            "text/plain": [
              "72"
            ]
          },
          "metadata": {},
          "execution_count": 148
        }
      ],
      "source": [
        "# Longs are even larger\n",
        "sys.getsizeof(10**100)"
      ]
    },
    {
      "cell_type": "markdown",
      "source": [
        "int64-----8个字节"
      ],
      "metadata": {
        "id": "RS_Mn4Ru64MZ"
      }
    },
    {
      "cell_type": "code",
      "execution_count": 149,
      "metadata": {
        "scrolled": true,
        "id": "fZZO_t9ylccy",
        "outputId": "aed27b51-d0ad-46ee-cf17-ef68b1ac4a42",
        "colab": {
          "base_uri": "https://localhost:8080/"
        }
      },
      "outputs": [
        {
          "output_type": "execute_result",
          "data": {
            "text/plain": [
              "8"
            ]
          },
          "metadata": {},
          "execution_count": 149
        }
      ],
      "source": [
        "# Numpy size is much smaller\n",
        "np.dtype(int).itemsize"
      ]
    },
    {
      "cell_type": "markdown",
      "source": [
        "int8 ----1个字节"
      ],
      "metadata": {
        "id": "seH46uPQ67vh"
      }
    },
    {
      "cell_type": "code",
      "execution_count": 150,
      "metadata": {
        "scrolled": true,
        "id": "N46FFGQrlccy",
        "outputId": "90eb312c-7adc-4a04-8d5f-352de1523e5b",
        "colab": {
          "base_uri": "https://localhost:8080/"
        }
      },
      "outputs": [
        {
          "output_type": "execute_result",
          "data": {
            "text/plain": [
              "1"
            ]
          },
          "metadata": {},
          "execution_count": 150
        }
      ],
      "source": [
        "# Numpy size is much smaller\n",
        "np.dtype(np.int8).itemsize"
      ]
    },
    {
      "cell_type": "markdown",
      "source": [
        "float64 -- 8个字节"
      ],
      "metadata": {
        "id": "pYM8NUOi6_RJ"
      }
    },
    {
      "cell_type": "code",
      "execution_count": 151,
      "metadata": {
        "scrolled": true,
        "id": "LOpzbIQHlccy",
        "outputId": "fe352afb-b665-4ca3-df3c-66d2a119af1a",
        "colab": {
          "base_uri": "https://localhost:8080/"
        }
      },
      "outputs": [
        {
          "output_type": "execute_result",
          "data": {
            "text/plain": [
              "8"
            ]
          },
          "metadata": {},
          "execution_count": 151
        }
      ],
      "source": [
        "np.dtype(float).itemsize"
      ]
    },
    {
      "cell_type": "markdown",
      "metadata": {
        "id": "h734hyWflccy"
      },
      "source": [
        "### Lists are even larger"
      ]
    },
    {
      "cell_type": "code",
      "source": [
        "np.dtype(np.float32).itemsize"
      ],
      "metadata": {
        "id": "EFKnBX177Cop",
        "outputId": "637093e8-250e-459b-d7fd-3d7a43e619f5",
        "colab": {
          "base_uri": "https://localhost:8080/"
        }
      },
      "execution_count": 164,
      "outputs": [
        {
          "output_type": "execute_result",
          "data": {
            "text/plain": [
              "4"
            ]
          },
          "metadata": {},
          "execution_count": 164
        }
      ]
    },
    {
      "cell_type": "code",
      "execution_count": 152,
      "metadata": {
        "id": "ZPDI-260lccy",
        "outputId": "276a5847-8ac8-4012-f39c-1f7dc4f780be",
        "colab": {
          "base_uri": "https://localhost:8080/"
        }
      },
      "outputs": [
        {
          "output_type": "execute_result",
          "data": {
            "text/plain": [
              "64"
            ]
          },
          "metadata": {},
          "execution_count": 152
        }
      ],
      "source": [
        "# A one-element list\n",
        "sys.getsizeof([1])"
      ]
    },
    {
      "cell_type": "markdown",
      "source": [
        "列表基础大小， 每个数据默认8的字节"
      ],
      "metadata": {
        "id": "LPTdDoi56MrR"
      }
    },
    {
      "cell_type": "code",
      "source": [
        "sys.getsizeof([])"
      ],
      "metadata": {
        "id": "Kn_kVbTk5364",
        "outputId": "a06593fa-fa30-45d1-fe6e-35e8bec43885",
        "colab": {
          "base_uri": "https://localhost:8080/"
        }
      },
      "execution_count": 160,
      "outputs": [
        {
          "output_type": "execute_result",
          "data": {
            "text/plain": [
              "56"
            ]
          },
          "metadata": {},
          "execution_count": 160
        }
      ]
    },
    {
      "cell_type": "code",
      "source": [
        "sys.getsizeof([1, 2])"
      ],
      "metadata": {
        "id": "cUa6PGE66Jpw",
        "outputId": "5058634d-5f98-4b9c-95d1-536d8bc370bc",
        "colab": {
          "base_uri": "https://localhost:8080/"
        }
      },
      "execution_count": 161,
      "outputs": [
        {
          "output_type": "execute_result",
          "data": {
            "text/plain": [
              "72"
            ]
          },
          "metadata": {},
          "execution_count": 161
        }
      ]
    },
    {
      "cell_type": "markdown",
      "source": [
        "数组的每个数据默认为8个字节"
      ],
      "metadata": {
        "id": "XfW2iu6a7MDC"
      }
    },
    {
      "cell_type": "code",
      "execution_count": 153,
      "metadata": {
        "scrolled": true,
        "id": "VLX_mJCRlccy",
        "outputId": "cd163914-6ad5-4203-f162-582d71e4fc7e",
        "colab": {
          "base_uri": "https://localhost:8080/"
        }
      },
      "outputs": [
        {
          "output_type": "execute_result",
          "data": {
            "text/plain": [
              "8"
            ]
          },
          "metadata": {},
          "execution_count": 153
        }
      ],
      "source": [
        "# An array of one element in numpy\n",
        "np.array([1]).nbytes"
      ]
    },
    {
      "cell_type": "code",
      "source": [
        "np.array([1, 2]).nbytes"
      ],
      "metadata": {
        "id": "0gJwll0T7WvB",
        "outputId": "fd751090-41e4-472a-ae22-7e059c0eb57a",
        "colab": {
          "base_uri": "https://localhost:8080/"
        }
      },
      "execution_count": 165,
      "outputs": [
        {
          "output_type": "execute_result",
          "data": {
            "text/plain": [
              "16"
            ]
          },
          "metadata": {},
          "execution_count": 165
        }
      ]
    },
    {
      "cell_type": "markdown",
      "metadata": {
        "id": "LljZW5Axlccy"
      },
      "source": [
        "### And performance is also important"
      ]
    },
    {
      "cell_type": "code",
      "source": [
        "l = list(range(100000))"
      ],
      "metadata": {
        "id": "Ar1gGGS14fWm"
      },
      "execution_count": 154,
      "outputs": []
    },
    {
      "cell_type": "code",
      "source": [
        "a = np.arange(100000)"
      ],
      "metadata": {
        "id": "SOZhu_NP4ioH"
      },
      "execution_count": 155,
      "outputs": []
    },
    {
      "cell_type": "code",
      "source": [
        "%time np.sum(a ** 2)"
      ],
      "metadata": {
        "id": "H-vDI2iz4i4X",
        "outputId": "9244aac7-83cb-4bce-947c-d3be94b2ce84",
        "colab": {
          "base_uri": "https://localhost:8080/"
        }
      },
      "execution_count": 156,
      "outputs": [
        {
          "output_type": "stream",
          "name": "stdout",
          "text": [
            "CPU times: user 1.62 ms, sys: 0 ns, total: 1.62 ms\n",
            "Wall time: 1.12 ms\n"
          ]
        },
        {
          "output_type": "execute_result",
          "data": {
            "text/plain": [
              "np.int64(333328333350000)"
            ]
          },
          "metadata": {},
          "execution_count": 156
        }
      ]
    },
    {
      "cell_type": "code",
      "source": [
        "%time sum([x ** 2 for x in l])"
      ],
      "metadata": {
        "id": "QidMK3FV4jOm",
        "outputId": "b48bb17b-fcb0-4df7-98c0-282af4d03cb2",
        "colab": {
          "base_uri": "https://localhost:8080/"
        }
      },
      "execution_count": 157,
      "outputs": [
        {
          "output_type": "stream",
          "name": "stdout",
          "text": [
            "CPU times: user 14.8 ms, sys: 963 µs, total: 15.7 ms\n",
            "Wall time: 16.8 ms\n"
          ]
        },
        {
          "output_type": "execute_result",
          "data": {
            "text/plain": [
              "333328333350000"
            ]
          },
          "metadata": {},
          "execution_count": 157
        }
      ]
    },
    {
      "cell_type": "markdown",
      "source": [
        "原始"
      ],
      "metadata": {
        "id": "30S0aEaP47mg"
      }
    },
    {
      "cell_type": "code",
      "execution_count": null,
      "metadata": {
        "id": "5mSjlouelccy"
      },
      "outputs": [],
      "source": [
        "l = list(range(100000))"
      ]
    },
    {
      "cell_type": "code",
      "execution_count": null,
      "metadata": {
        "id": "zjwxQEOklccz"
      },
      "outputs": [],
      "source": [
        "a = np.arange(100000)"
      ]
    },
    {
      "cell_type": "code",
      "execution_count": null,
      "metadata": {
        "scrolled": true,
        "id": "ABbZyuiHlccz",
        "outputId": "8cc890b7-4d1d-4e75-bab1-8c21e07efd32"
      },
      "outputs": [
        {
          "name": "stdout",
          "output_type": "stream",
          "text": [
            "CPU times: user 1.06 ms, sys: 279 µs, total: 1.34 ms\n",
            "Wall time: 701 µs\n"
          ]
        },
        {
          "data": {
            "text/plain": [
              "333328333350000"
            ]
          },
          "execution_count": 119,
          "metadata": {},
          "output_type": "execute_result"
        }
      ],
      "source": [
        "%time np.sum(a ** 2)"
      ]
    },
    {
      "cell_type": "code",
      "execution_count": null,
      "metadata": {
        "scrolled": true,
        "id": "KYOnseEtlccz",
        "outputId": "09e6c8cd-45d3-4e0b-faae-2d871c2ed003"
      },
      "outputs": [
        {
          "name": "stdout",
          "output_type": "stream",
          "text": [
            "CPU times: user 36.1 ms, sys: 0 ns, total: 36.1 ms\n",
            "Wall time: 35.5 ms\n"
          ]
        },
        {
          "data": {
            "text/plain": [
              "333328333350000"
            ]
          },
          "execution_count": 120,
          "metadata": {},
          "output_type": "execute_result"
        }
      ],
      "source": [
        "%time sum([x ** 2 for x in l])"
      ]
    },
    {
      "cell_type": "markdown",
      "metadata": {
        "id": "SEOL7rH3lccz"
      },
      "source": [
        "![green-divider](https://user-images.githubusercontent.com/7065401/52071924-c003ad80-2562-11e9-8297-1c6595f8a7ff.png)\n",
        "\n",
        "## Useful Numpy functions"
      ]
    },
    {
      "cell_type": "markdown",
      "metadata": {
        "id": "OSiUl794lccz"
      },
      "source": [
        "### `random`"
      ]
    },
    {
      "cell_type": "code",
      "execution_count": 166,
      "metadata": {
        "id": "arnG_x-Hlccz",
        "outputId": "6d24d976-9224-46c8-d977-5bb01386032b",
        "colab": {
          "base_uri": "https://localhost:8080/"
        }
      },
      "outputs": [
        {
          "output_type": "execute_result",
          "data": {
            "text/plain": [
              "array([0.21485679, 0.24702181])"
            ]
          },
          "metadata": {},
          "execution_count": 166
        }
      ],
      "source": [
        "np.random.random(size=2)"
      ]
    },
    {
      "cell_type": "code",
      "execution_count": 167,
      "metadata": {
        "id": "PsnK-k4Clccz",
        "outputId": "3fc56187-1338-4d19-ab1a-672180de6e5e",
        "colab": {
          "base_uri": "https://localhost:8080/"
        }
      },
      "outputs": [
        {
          "output_type": "execute_result",
          "data": {
            "text/plain": [
              "array([-2.13995648,  1.02213323])"
            ]
          },
          "metadata": {},
          "execution_count": 167
        }
      ],
      "source": [
        "np.random.normal(size=2)"
      ]
    },
    {
      "cell_type": "code",
      "execution_count": 168,
      "metadata": {
        "id": "1hoNG5bQlccz",
        "outputId": "9bb5d84c-b76d-45d1-8d7d-b26382130946",
        "colab": {
          "base_uri": "https://localhost:8080/"
        }
      },
      "outputs": [
        {
          "output_type": "execute_result",
          "data": {
            "text/plain": [
              "array([[0.11157311, 0.03377097, 0.76445147, 0.14030483],\n",
              "       [0.07682888, 0.77700965, 0.45106239, 0.32782714]])"
            ]
          },
          "metadata": {},
          "execution_count": 168
        }
      ],
      "source": [
        "np.random.rand(2, 4)"
      ]
    },
    {
      "cell_type": "markdown",
      "metadata": {
        "id": "1r-7M_cVlccz"
      },
      "source": [
        "---\n",
        "### `arange`"
      ]
    },
    {
      "cell_type": "code",
      "execution_count": 169,
      "metadata": {
        "id": "--0pn1rulccz",
        "outputId": "4d88f040-16fd-4cf9-a47d-eb6905f9ecd5",
        "colab": {
          "base_uri": "https://localhost:8080/"
        }
      },
      "outputs": [
        {
          "output_type": "execute_result",
          "data": {
            "text/plain": [
              "array([0, 1, 2, 3, 4, 5, 6, 7, 8, 9])"
            ]
          },
          "metadata": {},
          "execution_count": 169
        }
      ],
      "source": [
        "np.arange(10)"
      ]
    },
    {
      "cell_type": "code",
      "execution_count": 170,
      "metadata": {
        "id": "ncK5kHZilccz",
        "outputId": "acf83d9c-fc67-4f8c-b67e-0fc70b34ac82",
        "colab": {
          "base_uri": "https://localhost:8080/"
        }
      },
      "outputs": [
        {
          "output_type": "execute_result",
          "data": {
            "text/plain": [
              "array([5, 6, 7, 8, 9])"
            ]
          },
          "metadata": {},
          "execution_count": 170
        }
      ],
      "source": [
        "np.arange(5, 10)"
      ]
    },
    {
      "cell_type": "code",
      "execution_count": 171,
      "metadata": {
        "id": "FZ0qCUcilccz",
        "outputId": "260484d1-9a8c-49b0-eec7-052d71ebb74f",
        "colab": {
          "base_uri": "https://localhost:8080/"
        }
      },
      "outputs": [
        {
          "output_type": "execute_result",
          "data": {
            "text/plain": [
              "array([0. , 0.1, 0.2, 0.3, 0.4, 0.5, 0.6, 0.7, 0.8, 0.9])"
            ]
          },
          "metadata": {},
          "execution_count": 171
        }
      ],
      "source": [
        "np.arange(0, 1, .1)"
      ]
    },
    {
      "cell_type": "markdown",
      "metadata": {
        "id": "cKWbl6_Klccz"
      },
      "source": [
        "---\n",
        "### `reshape`"
      ]
    },
    {
      "cell_type": "markdown",
      "source": [
        "reshape,指定数组的行列大小"
      ],
      "metadata": {
        "id": "ks7SZReR8dLb"
      }
    },
    {
      "cell_type": "code",
      "execution_count": 172,
      "metadata": {
        "id": "B5w1te1Llcc0",
        "outputId": "57e6e251-8d8a-4c6e-d5b1-6fab84b11fad",
        "colab": {
          "base_uri": "https://localhost:8080/"
        }
      },
      "outputs": [
        {
          "output_type": "execute_result",
          "data": {
            "text/plain": [
              "array([[0, 1, 2, 3, 4],\n",
              "       [5, 6, 7, 8, 9]])"
            ]
          },
          "metadata": {},
          "execution_count": 172
        }
      ],
      "source": [
        "np.arange(10).reshape(2, 5)"
      ]
    },
    {
      "cell_type": "code",
      "execution_count": 173,
      "metadata": {
        "id": "R1Lsbnxhlcc0",
        "outputId": "d75711e3-eeb3-4f5a-d5a8-85ad52597899",
        "colab": {
          "base_uri": "https://localhost:8080/"
        }
      },
      "outputs": [
        {
          "output_type": "execute_result",
          "data": {
            "text/plain": [
              "array([[0, 1],\n",
              "       [2, 3],\n",
              "       [4, 5],\n",
              "       [6, 7],\n",
              "       [8, 9]])"
            ]
          },
          "metadata": {},
          "execution_count": 173
        }
      ],
      "source": [
        "np.arange(10).reshape(5, 2)"
      ]
    },
    {
      "cell_type": "markdown",
      "metadata": {
        "id": "lTIi8WUDlcc0"
      },
      "source": [
        "---\n",
        "### `linspace`"
      ]
    },
    {
      "cell_type": "markdown",
      "source": [
        "均匀分成5等分"
      ],
      "metadata": {
        "id": "RuGFK4728pR7"
      }
    },
    {
      "cell_type": "code",
      "execution_count": 174,
      "metadata": {
        "id": "zhSduvlVlcc0",
        "outputId": "5aebfe82-8f53-4211-cd30-3451169595b8",
        "colab": {
          "base_uri": "https://localhost:8080/"
        }
      },
      "outputs": [
        {
          "output_type": "execute_result",
          "data": {
            "text/plain": [
              "array([0.  , 0.25, 0.5 , 0.75, 1.  ])"
            ]
          },
          "metadata": {},
          "execution_count": 174
        }
      ],
      "source": [
        "np.linspace(0, 1, 5)"
      ]
    },
    {
      "cell_type": "markdown",
      "source": [
        "![image.png](data:image/png;base64,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)"
      ],
      "metadata": {
        "id": "QAzpKmHuDHX5"
      }
    },
    {
      "cell_type": "code",
      "execution_count": 175,
      "metadata": {
        "id": "_A6RuZdnlcc0",
        "outputId": "a348f6d5-7dbd-46a8-cb44-c19220a250fc",
        "colab": {
          "base_uri": "https://localhost:8080/"
        }
      },
      "outputs": [
        {
          "output_type": "execute_result",
          "data": {
            "text/plain": [
              "array([0.        , 0.05263158, 0.10526316, 0.15789474, 0.21052632,\n",
              "       0.26315789, 0.31578947, 0.36842105, 0.42105263, 0.47368421,\n",
              "       0.52631579, 0.57894737, 0.63157895, 0.68421053, 0.73684211,\n",
              "       0.78947368, 0.84210526, 0.89473684, 0.94736842, 1.        ])"
            ]
          },
          "metadata": {},
          "execution_count": 175
        }
      ],
      "source": [
        "np.linspace(0, 1, 20)"
      ]
    },
    {
      "cell_type": "markdown",
      "source": [
        "终点占了一位"
      ],
      "metadata": {
        "id": "zZQjJZnbEFGC"
      }
    },
    {
      "cell_type": "code",
      "source": [
        "np.linspace(0, 1, 3)"
      ],
      "metadata": {
        "id": "3c3zV9FFDqjo",
        "outputId": "7c9650d5-b11c-4f57-8284-b9f921cd9fa1",
        "colab": {
          "base_uri": "https://localhost:8080/"
        }
      },
      "execution_count": 206,
      "outputs": [
        {
          "output_type": "execute_result",
          "data": {
            "text/plain": [
              "array([0. , 0.5, 1. ])"
            ]
          },
          "metadata": {},
          "execution_count": 206
        }
      ]
    },
    {
      "cell_type": "code",
      "source": [
        "np.linspace(0, 1, 3, False)"
      ],
      "metadata": {
        "id": "YAQfCVbbDtdg",
        "outputId": "0c44dc6f-b30f-4079-e1b2-af63364386f1",
        "colab": {
          "base_uri": "https://localhost:8080/"
        }
      },
      "execution_count": 208,
      "outputs": [
        {
          "output_type": "execute_result",
          "data": {
            "text/plain": [
              "array([0.        , 0.33333333, 0.66666667])"
            ]
          },
          "metadata": {},
          "execution_count": 208
        }
      ]
    },
    {
      "cell_type": "code",
      "execution_count": 176,
      "metadata": {
        "scrolled": true,
        "id": "v4CFHftOlcc0",
        "outputId": "d9dca85b-fa46-4c87-a495-058ac1afd61f",
        "colab": {
          "base_uri": "https://localhost:8080/"
        }
      },
      "outputs": [
        {
          "output_type": "execute_result",
          "data": {
            "text/plain": [
              "array([0.  , 0.05, 0.1 , 0.15, 0.2 , 0.25, 0.3 , 0.35, 0.4 , 0.45, 0.5 ,\n",
              "       0.55, 0.6 , 0.65, 0.7 , 0.75, 0.8 , 0.85, 0.9 , 0.95])"
            ]
          },
          "metadata": {},
          "execution_count": 176
        }
      ],
      "source": [
        "np.linspace(0, 1, 20, False)"
      ]
    },
    {
      "cell_type": "markdown",
      "metadata": {
        "id": "JWbEYpT5lcc0"
      },
      "source": [
        "---\n",
        "### `zeros`, `ones`, `empty`"
      ]
    },
    {
      "cell_type": "markdown",
      "source": [
        "正态分布（标准均值=0， 标准差为1）"
      ],
      "metadata": {
        "id": "cIQ2-2sYEz3y"
      }
    },
    {
      "cell_type": "code",
      "source": [
        "import matplotlib.pyplot as plt\n",
        "\n",
        "data = np.random.normal(size=10000)\n",
        "plt.hist(data, bins=50, density=True)\n",
        "plt.title(\"Standard Normal Distribution\")\n",
        "plt.show()"
      ],
      "metadata": {
        "id": "3_1UnildBwbO",
        "outputId": "2c7042b9-9232-4dd9-c65f-f16d63fcdf8d",
        "colab": {
          "base_uri": "https://localhost:8080/",
          "height": 452
        }
      },
      "execution_count": 205,
      "outputs": [
        {
          "output_type": "display_data",
          "data": {
            "text/plain": [
              "<Figure size 640x480 with 1 Axes>"
            ],
            "image/png": "[encoded data removed]"
          },
          "metadata": {}
        }
      ]
    },
    {
      "cell_type": "code",
      "execution_count": 177,
      "metadata": {
        "id": "M3RCHwD7lcc0",
        "outputId": "56c9752a-958d-4432-a9f5-71cd7f2c8c86",
        "colab": {
          "base_uri": "https://localhost:8080/"
        }
      },
      "outputs": [
        {
          "output_type": "execute_result",
          "data": {
            "text/plain": [
              "array([0., 0., 0., 0., 0.])"
            ]
          },
          "metadata": {},
          "execution_count": 177
        }
      ],
      "source": [
        "np.zeros(5)"
      ]
    },
    {
      "cell_type": "code",
      "execution_count": 178,
      "metadata": {
        "scrolled": true,
        "id": "XPeUoSi2lcc0",
        "outputId": "2a1b9bc7-ede6-4f7c-a5a9-bc14fe0d73cd",
        "colab": {
          "base_uri": "https://localhost:8080/"
        }
      },
      "outputs": [
        {
          "output_type": "execute_result",
          "data": {
            "text/plain": [
              "array([[0., 0., 0.],\n",
              "       [0., 0., 0.],\n",
              "       [0., 0., 0.]])"
            ]
          },
          "metadata": {},
          "execution_count": 178
        }
      ],
      "source": [
        "np.zeros((3, 3))"
      ]
    },
    {
      "cell_type": "code",
      "execution_count": 180,
      "metadata": {
        "scrolled": true,
        "id": "1bAty_bYlcc0",
        "outputId": "0aecb9e9-a2f2-414d-f8ea-f99671c73e1b",
        "colab": {
          "base_uri": "https://localhost:8080/"
        }
      },
      "outputs": [
        {
          "output_type": "execute_result",
          "data": {
            "text/plain": [
              "array([[0, 0, 0],\n",
              "       [0, 0, 0],\n",
              "       [0, 0, 0]])"
            ]
          },
          "metadata": {},
          "execution_count": 180
        }
      ],
      "source": [
        "np.zeros((3, 3), dtype=np.int64)"
      ]
    },
    {
      "cell_type": "code",
      "execution_count": 181,
      "metadata": {
        "id": "jWEKScUzlcc0",
        "outputId": "41782874-4226-4b4e-b47f-412aea6caac9",
        "colab": {
          "base_uri": "https://localhost:8080/"
        }
      },
      "outputs": [
        {
          "output_type": "execute_result",
          "data": {
            "text/plain": [
              "array([1., 1., 1., 1., 1.])"
            ]
          },
          "metadata": {},
          "execution_count": 181
        }
      ],
      "source": [
        "np.ones(5)"
      ]
    },
    {
      "cell_type": "code",
      "execution_count": 182,
      "metadata": {
        "id": "sBy9gPZqlcc0",
        "outputId": "8d40588c-49b9-4ab0-bbae-fdae1f2f833f",
        "colab": {
          "base_uri": "https://localhost:8080/"
        }
      },
      "outputs": [
        {
          "output_type": "execute_result",
          "data": {
            "text/plain": [
              "array([[1., 1., 1.],\n",
              "       [1., 1., 1.],\n",
              "       [1., 1., 1.]])"
            ]
          },
          "metadata": {},
          "execution_count": 182
        }
      ],
      "source": [
        "np.ones((3, 3))"
      ]
    },
    {
      "cell_type": "code",
      "execution_count": 186,
      "metadata": {
        "id": "-rRxAB8klcc1",
        "outputId": "57af1baf-0722-41be-9e11-2ba07d666c01",
        "colab": {
          "base_uri": "https://localhost:8080/"
        }
      },
      "outputs": [
        {
          "output_type": "execute_result",
          "data": {
            "text/plain": [
              "array([1., 1., 1., 1., 1.])"
            ]
          },
          "metadata": {},
          "execution_count": 186
        }
      ],
      "source": [
        "np.empty(5)"
      ]
    },
    {
      "cell_type": "markdown",
      "source": [
        "empty 只分配内存空间，不修改原有内存数据，因此显示的是分配前内存中的残留值。\n",
        "\n",
        "务必手动赋值后再使用，否则可能导致不可预测的结果。"
      ],
      "metadata": {
        "id": "ENmMsoYQFww7"
      }
    },
    {
      "cell_type": "code",
      "source": [
        "np.empty((3, 3))"
      ],
      "metadata": {
        "id": "5ga3_FEI9kUr",
        "outputId": "9ba15d59-aa1c-4ea4-8cb6-5d663ce3f0ec",
        "colab": {
          "base_uri": "https://localhost:8080/"
        }
      },
      "execution_count": 193,
      "outputs": [
        {
          "output_type": "execute_result",
          "data": {
            "text/plain": [
              "array([[1., 1., 1.],\n",
              "       [1., 1., 1.],\n",
              "       [1., 1., 1.]])"
            ]
          },
          "metadata": {},
          "execution_count": 193
        }
      ]
    },
    {
      "cell_type": "code",
      "source": [
        "np.empty((2, 4))"
      ],
      "metadata": {
        "id": "OPLhU5st91-T",
        "outputId": "7c527ae6-c510-4c35-b6aa-f6ade811f84c",
        "colab": {
          "base_uri": "https://localhost:8080/"
        }
      },
      "execution_count": 223,
      "outputs": [
        {
          "output_type": "execute_result",
          "data": {
            "text/plain": [
              "array([[  0.   , -18.   ,   0.   ,   0.   ],\n",
              "       [243.125,   0.   , 243.125, -18.   ]])"
            ]
          },
          "metadata": {},
          "execution_count": 223
        }
      ]
    },
    {
      "cell_type": "code",
      "execution_count": 226,
      "metadata": {
        "scrolled": true,
        "id": "LPPfeHBGlcc1",
        "outputId": "3b159a1c-2f30-4630-ac1e-8811519fbec3",
        "colab": {
          "base_uri": "https://localhost:8080/"
        }
      },
      "outputs": [
        {
          "output_type": "execute_result",
          "data": {
            "text/plain": [
              "array([[ 18.   , 243.125],\n",
              "       [243.125,  18.   ]])"
            ]
          },
          "metadata": {},
          "execution_count": 226
        }
      ],
      "source": [
        "np.empty((2, 2))"
      ]
    },
    {
      "cell_type": "code",
      "source": [
        "D = np.empty((2, 2))"
      ],
      "metadata": {
        "id": "pf3LV-2eIKWE"
      },
      "execution_count": 227,
      "outputs": []
    },
    {
      "cell_type": "code",
      "source": [
        "print(D, D.sum())"
      ],
      "metadata": {
        "id": "8FTbSa2XIOk8",
        "outputId": "c8e9106e-eddd-40ea-a674-fe6e6c2d751c",
        "colab": {
          "base_uri": "https://localhost:8080/"
        }
      },
      "execution_count": 228,
      "outputs": [
        {
          "output_type": "stream",
          "name": "stdout",
          "text": [
            "[[ 18.    243.125]\n",
            " [243.125  18.   ]] 522.25\n"
          ]
        }
      ]
    },
    {
      "cell_type": "markdown",
      "metadata": {
        "id": "RsFvG3Eblcc1"
      },
      "source": [
        "---\n",
        "### `identity` and `eye`"
      ]
    },
    {
      "cell_type": "markdown",
      "source": [
        "生成一个 n × n 的单位矩阵（主对角线为 1，其余为 0）。"
      ],
      "metadata": {
        "id": "Q7aggaQMKkWg"
      }
    },
    {
      "cell_type": "code",
      "execution_count": 198,
      "metadata": {
        "id": "ZO_0yGAalcc1",
        "outputId": "e4774020-e9dd-4d8b-f0dd-d992d17403fe",
        "colab": {
          "base_uri": "https://localhost:8080/"
        }
      },
      "outputs": [
        {
          "output_type": "execute_result",
          "data": {
            "text/plain": [
              "array([[1., 0., 0.],\n",
              "       [0., 1., 0.],\n",
              "       [0., 0., 1.]])"
            ]
          },
          "metadata": {},
          "execution_count": 198
        }
      ],
      "source": [
        "np.identity(3)"
      ]
    },
    {
      "cell_type": "code",
      "execution_count": 199,
      "metadata": {
        "id": "RWY_qvR4lcc1",
        "outputId": "40cad099-e8da-4408-e85b-1caf7fffee0d",
        "colab": {
          "base_uri": "https://localhost:8080/"
        }
      },
      "outputs": [
        {
          "output_type": "execute_result",
          "data": {
            "text/plain": [
              "array([[1., 0., 0.],\n",
              "       [0., 1., 0.],\n",
              "       [0., 0., 1.]])"
            ]
          },
          "metadata": {},
          "execution_count": 199
        }
      ],
      "source": [
        "np.eye(3, 3)"
      ]
    },
    {
      "cell_type": "code",
      "source": [
        "np.eye(3, 2)"
      ],
      "metadata": {
        "id": "lfU8b69lEmz5",
        "outputId": "0451d6d6-fed4-478e-cbfd-f8a6a10d8c66",
        "colab": {
          "base_uri": "https://localhost:8080/"
        }
      },
      "execution_count": 213,
      "outputs": [
        {
          "output_type": "execute_result",
          "data": {
            "text/plain": [
              "array([[1., 0.],\n",
              "       [0., 1.],\n",
              "       [0., 0.]])"
            ]
          },
          "metadata": {},
          "execution_count": 213
        }
      ]
    },
    {
      "cell_type": "code",
      "source": [
        "np.identity(4)"
      ],
      "metadata": {
        "id": "t5zvnx0SEr3h",
        "outputId": "fc179e4c-dd1c-4bf0-baee-7438b732200c",
        "colab": {
          "base_uri": "https://localhost:8080/"
        }
      },
      "execution_count": 215,
      "outputs": [
        {
          "output_type": "execute_result",
          "data": {
            "text/plain": [
              "array([[1., 0., 0., 0.],\n",
              "       [0., 1., 0., 0.],\n",
              "       [0., 0., 1., 0.],\n",
              "       [0., 0., 0., 1.]])"
            ]
          },
          "metadata": {},
          "execution_count": 215
        }
      ]
    },
    {
      "cell_type": "markdown",
      "source": [
        "k：对角线偏移量（默认 0 为主对角线，正数向上偏移，负数向下偏移）"
      ],
      "metadata": {
        "id": "3F86ebq9KXfA"
      }
    },
    {
      "cell_type": "code",
      "execution_count": 200,
      "metadata": {
        "id": "vAceVHKxlcc1",
        "outputId": "1d6c3025-5bb9-41db-9327-c66f1bca0e14",
        "colab": {
          "base_uri": "https://localhost:8080/"
        }
      },
      "outputs": [
        {
          "output_type": "execute_result",
          "data": {
            "text/plain": [
              "array([[1., 0., 0., 0.],\n",
              "       [0., 1., 0., 0.],\n",
              "       [0., 0., 1., 0.],\n",
              "       [0., 0., 0., 1.],\n",
              "       [0., 0., 0., 0.],\n",
              "       [0., 0., 0., 0.],\n",
              "       [0., 0., 0., 0.],\n",
              "       [0., 0., 0., 0.]])"
            ]
          },
          "metadata": {},
          "execution_count": 200
        }
      ],
      "source": [
        "np.eye(8, 4)"
      ]
    },
    {
      "cell_type": "code",
      "source": [
        "np.eye(8, 4, k=2)"
      ],
      "metadata": {
        "id": "C7kI_J24Kwqu",
        "outputId": "5fe0825f-2f98-441d-f2c7-f5557933d9c1",
        "colab": {
          "base_uri": "https://localhost:8080/"
        }
      },
      "execution_count": 229,
      "outputs": [
        {
          "output_type": "execute_result",
          "data": {
            "text/plain": [
              "array([[0., 0., 1., 0.],\n",
              "       [0., 0., 0., 1.],\n",
              "       [0., 0., 0., 0.],\n",
              "       [0., 0., 0., 0.],\n",
              "       [0., 0., 0., 0.],\n",
              "       [0., 0., 0., 0.],\n",
              "       [0., 0., 0., 0.],\n",
              "       [0., 0., 0., 0.]])"
            ]
          },
          "metadata": {},
          "execution_count": 229
        }
      ]
    },
    {
      "cell_type": "code",
      "source": [
        "np.eye(8, 4, k=-1)"
      ],
      "metadata": {
        "id": "39k64wAGKzpH",
        "outputId": "85e02bbf-1fab-4b08-d9b9-e064b39958ca",
        "colab": {
          "base_uri": "https://localhost:8080/"
        }
      },
      "execution_count": 230,
      "outputs": [
        {
          "output_type": "execute_result",
          "data": {
            "text/plain": [
              "array([[0., 0., 0., 0.],\n",
              "       [1., 0., 0., 0.],\n",
              "       [0., 1., 0., 0.],\n",
              "       [0., 0., 1., 0.],\n",
              "       [0., 0., 0., 1.],\n",
              "       [0., 0., 0., 0.],\n",
              "       [0., 0., 0., 0.],\n",
              "       [0., 0., 0., 0.]])"
            ]
          },
          "metadata": {},
          "execution_count": 230
        }
      ]
    },
    {
      "cell_type": "code",
      "source": [
        "np.eye(4, k=1)"
      ],
      "metadata": {
        "id": "8KeQUGcILPLf",
        "outputId": "ecb5dc90-0d66-4350-a2ce-adc14273adfb",
        "colab": {
          "base_uri": "https://localhost:8080/"
        }
      },
      "execution_count": 231,
      "outputs": [
        {
          "output_type": "execute_result",
          "data": {
            "text/plain": [
              "array([[0., 1., 0., 0.],\n",
              "       [0., 0., 1., 0.],\n",
              "       [0., 0., 0., 1.],\n",
              "       [0., 0., 0., 0.]])"
            ]
          },
          "metadata": {},
          "execution_count": 231
        }
      ]
    },
    {
      "cell_type": "code",
      "source": [
        "np.eye(4, k=-1)"
      ],
      "metadata": {
        "id": "4y247ycaLR6X",
        "outputId": "6e0db688-e6f7-47f4-99f3-360c02a0d7cc",
        "colab": {
          "base_uri": "https://localhost:8080/"
        }
      },
      "execution_count": 233,
      "outputs": [
        {
          "output_type": "execute_result",
          "data": {
            "text/plain": [
              "array([[0., 0., 0., 0.],\n",
              "       [1., 0., 0., 0.],\n",
              "       [0., 1., 0., 0.],\n",
              "       [0., 0., 1., 0.]])"
            ]
          },
          "metadata": {},
          "execution_count": 233
        }
      ]
    },
    {
      "cell_type": "code",
      "execution_count": 201,
      "metadata": {
        "scrolled": true,
        "id": "NqvkKBqblcc1",
        "outputId": "6e9f1a66-166f-4b86-c372-a58cc2b0dd9d",
        "colab": {
          "base_uri": "https://localhost:8080/"
        }
      },
      "outputs": [
        {
          "output_type": "execute_result",
          "data": {
            "text/plain": [
              "array([[0., 1., 0., 0.],\n",
              "       [0., 0., 1., 0.],\n",
              "       [0., 0., 0., 1.],\n",
              "       [0., 0., 0., 0.],\n",
              "       [0., 0., 0., 0.],\n",
              "       [0., 0., 0., 0.],\n",
              "       [0., 0., 0., 0.],\n",
              "       [0., 0., 0., 0.]])"
            ]
          },
          "metadata": {},
          "execution_count": 201
        }
      ],
      "source": [
        "np.eye(8, 4, k=1)"
      ]
    },
    {
      "cell_type": "code",
      "execution_count": 209,
      "metadata": {
        "id": "1bu65Wialcc1",
        "outputId": "355a2bcd-6ffd-4a54-947c-676b1727ddb7",
        "colab": {
          "base_uri": "https://localhost:8080/"
        }
      },
      "outputs": [
        {
          "output_type": "execute_result",
          "data": {
            "text/plain": [
              "array([[0., 0., 0., 0.],\n",
              "       [0., 0., 0., 0.],\n",
              "       [0., 0., 0., 0.],\n",
              "       [1., 0., 0., 0.],\n",
              "       [0., 1., 0., 0.],\n",
              "       [0., 0., 1., 0.],\n",
              "       [0., 0., 0., 1.],\n",
              "       [0., 0., 0., 0.]])"
            ]
          },
          "metadata": {},
          "execution_count": 209
        }
      ],
      "source": [
        "np.eye(8, 4, k=-3)"
      ]
    },
    {
      "cell_type": "code",
      "execution_count": 212,
      "metadata": {
        "scrolled": true,
        "id": "DCkQnM3Mlcc1",
        "outputId": "5eb406ef-524f-47a4-99d7-64374c339152",
        "colab": {
          "base_uri": "https://localhost:8080/",
          "height": 35
        }
      },
      "outputs": [
        {
          "output_type": "execute_result",
          "data": {
            "text/plain": [
              "'W'"
            ],
            "application/vnd.google.colaboratory.intrinsic+json": {
              "type": "string"
            }
          },
          "metadata": {},
          "execution_count": 212
        }
      ],
      "source": [
        "\"Hello World\"[6]"
      ]
    },
    {
      "cell_type": "markdown",
      "metadata": {
        "id": "RJPFoY-Qlcc1"
      },
      "source": [
        "![purple-divider](https://user-images.githubusercontent.com/7065401/52071927-c1cd7100-2562-11e9-908a-dde91ba14e59.png)"
      ]
    }
  ],
  "metadata": {
    "kernelspec": {
      "display_name": "Python 3",
      "language": "python",
      "name": "python3"
    },
    "language_info": {
      "codemirror_mode": {
        "name": "ipython",
        "version": 3
      },
      "file_extension": ".py",
      "mimetype": "text/x-python",
      "name": "python",
      "nbconvert_exporter": "python",
      "pygments_lexer": "ipython3",
      "version": "3.8.1"
    },
    "colab": {
      "provenance": [],
      "include_colab_link": true
    }
  },
  "nbformat": 4,
  "nbformat_minor": 0
}